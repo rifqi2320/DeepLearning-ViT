{
 "cells": [
  {
   "cell_type": "code",
   "execution_count": 1,
   "id": "f14ee6c7",
   "metadata": {
    "execution": {
     "iopub.execute_input": "2025-05-25T14:05:11.240059Z",
     "iopub.status.busy": "2025-05-25T14:05:11.239795Z",
     "iopub.status.idle": "2025-05-25T14:05:16.503604Z",
     "shell.execute_reply": "2025-05-25T14:05:16.502502Z"
    },
    "papermill": {
     "duration": 5.270028,
     "end_time": "2025-05-25T14:05:16.504911",
     "exception": false,
     "start_time": "2025-05-25T14:05:11.234883",
     "status": "completed"
    },
    "tags": []
   },
   "outputs": [
    {
     "name": "stdout",
     "output_type": "stream",
     "text": [
      "Standard ViT output shape: torch.Size([2, 10])\n",
      "RoPE ViT output shape: torch.Size([2, 10])\n",
      "Parameters - Standard: 2,853,706\n",
      "Parameters - RoPE: 2,815,882\n",
      "Vision Transformer with RoPE implementation loaded successfully!\n"
     ]
    }
   ],
   "source": [
    "import torch\n",
    "import torch.nn as nn\n",
    "import torch.nn.functional as F\n",
    "import math\n",
    "\n",
    "\n",
    "class RoPEPositionalEncoding(nn.Module):\n",
    "    \"\"\"Clean and simple Rotary Position Embedding (RoPE) implementation\"\"\"\n",
    "    \n",
    "    def __init__(self, dim, max_seq_len=2048, base=10000):\n",
    "        super().__init__()\n",
    "        self.dim = dim\n",
    "        self.max_seq_len = max_seq_len\n",
    "        self.base = base\n",
    "        \n",
    "        # Precompute theta values for rotation\n",
    "        inv_freq = 1.0 / (base ** (torch.arange(0, dim, 2).float() / dim))\n",
    "        self.register_buffer('inv_freq', inv_freq, persistent=False)\n",
    "    \n",
    "    def forward(self, x, seq_len=None):\n",
    "        \"\"\"\n",
    "        Apply RoPE to input tensor\n",
    "        Args:\n",
    "            x: [batch_size, num_heads, seq_len, head_dim]\n",
    "            seq_len: sequence length (optional)\n",
    "        Returns:\n",
    "            Rotated tensor with same shape\n",
    "        \"\"\"\n",
    "        if seq_len is None:\n",
    "            seq_len = x.shape[-2]\n",
    "        \n",
    "        # Create position encodings\n",
    "        device = x.device\n",
    "        dtype = x.dtype\n",
    "        \n",
    "        # Position indices\n",
    "        position = torch.arange(seq_len, device=device, dtype=dtype)\n",
    "        \n",
    "        # Calculate theta = position * inv_freq\n",
    "        freqs = torch.outer(position, self.inv_freq.to(dtype))  # [seq_len, dim//2]\n",
    "        \n",
    "        # Create rotation embeddings\n",
    "        emb = torch.cat((freqs, freqs), dim=-1)  # [seq_len, dim]\n",
    "        cos_emb = emb.cos()[None, None, :, :]  # [1, 1, seq_len, dim]\n",
    "        sin_emb = emb.sin()[None, None, :, :]  # [1, 1, seq_len, dim]\n",
    "        \n",
    "        # Apply rotation\n",
    "        return self._apply_rotary_emb(x, cos_emb, sin_emb)\n",
    "    \n",
    "    def _apply_rotary_emb(self, x, cos, sin):\n",
    "        \"\"\"Apply rotary embedding to input tensor\"\"\"\n",
    "        # Split features into pairs\n",
    "        x1 = x[..., ::2]  # Even indices\n",
    "        x2 = x[..., 1::2]  # Odd indices\n",
    "        \n",
    "        # Apply rotation matrix: R * [x1; x2] = [cos*x1 - sin*x2; sin*x1 + cos*x2]\n",
    "        cos = cos[..., ::2]  # Take every other cos value\n",
    "        sin = sin[..., ::2]  # Take every other sin value\n",
    "        \n",
    "        rotated_x1 = x1 * cos - x2 * sin\n",
    "        rotated_x2 = x1 * sin + x2 * cos\n",
    "        \n",
    "        # Interleave back\n",
    "        rotated = torch.stack([rotated_x1, rotated_x2], dim=-1)\n",
    "        return rotated.flatten(-2)\n",
    "\n",
    "\n",
    "class PatchEmbedding(nn.Module):\n",
    "    \"\"\"Convert image to patch embeddings\"\"\"\n",
    "    \n",
    "    def __init__(self, img_size=224, patch_size=16, in_channels=3, embed_dim=768):\n",
    "        super().__init__()\n",
    "        self.img_size = img_size\n",
    "        self.patch_size = patch_size\n",
    "        self.num_patches = (img_size // patch_size) ** 2\n",
    "        \n",
    "        self.projection = nn.Conv2d(\n",
    "            in_channels, embed_dim, \n",
    "            kernel_size=patch_size, \n",
    "            stride=patch_size\n",
    "        )\n",
    "    \n",
    "    def forward(self, x):\n",
    "        # x: [B, C, H, W] -> [B, embed_dim, H//P, W//P]\n",
    "        x = self.projection(x)\n",
    "        # Flatten spatial dims: [B, embed_dim, num_patches]\n",
    "        x = x.flatten(2)\n",
    "        # Transpose: [B, num_patches, embed_dim]\n",
    "        return x.transpose(1, 2)\n",
    "\n",
    "\n",
    "class MultiHeadAttention(nn.Module):\n",
    "    \"\"\"Multi-head self-attention with optional RoPE\"\"\"\n",
    "    \n",
    "    def __init__(self, embed_dim, num_heads, dropout=0.0, use_rope=False):\n",
    "        super().__init__()\n",
    "        assert embed_dim % num_heads == 0\n",
    "        \n",
    "        self.embed_dim = embed_dim\n",
    "        self.num_heads = num_heads\n",
    "        self.head_dim = embed_dim // num_heads\n",
    "        self.scale = self.head_dim ** -0.5\n",
    "        self.use_rope = use_rope\n",
    "        \n",
    "        # Linear projections for Q, K, V\n",
    "        self.qkv = nn.Linear(embed_dim, embed_dim * 3, bias=False)\n",
    "        self.proj = nn.Linear(embed_dim, embed_dim)\n",
    "        self.dropout = nn.Dropout(dropout)\n",
    "        \n",
    "        # RoPE for positional encoding\n",
    "        if use_rope:\n",
    "            self.rope = RoPEPositionalEncoding(self.head_dim)\n",
    "    \n",
    "    def forward(self, x):\n",
    "        B, N, C = x.shape\n",
    "        \n",
    "        # Generate Q, K, V\n",
    "        qkv = self.qkv(x).reshape(B, N, 3, self.num_heads, self.head_dim)\n",
    "        qkv = qkv.permute(2, 0, 3, 1, 4)  # [3, B, heads, N, head_dim]\n",
    "        q, k, v = qkv.unbind(0)\n",
    "        \n",
    "        # Apply RoPE if enabled\n",
    "        if self.use_rope:\n",
    "            q = self.rope(q)\n",
    "            k = self.rope(k)\n",
    "        \n",
    "        # Scaled dot-product attention\n",
    "        attn = (q @ k.transpose(-2, -1)) * self.scale\n",
    "        attn = F.softmax(attn, dim=-1)\n",
    "        attn = self.dropout(attn)\n",
    "        \n",
    "        # Apply attention to values\n",
    "        x = (attn @ v).transpose(1, 2).reshape(B, N, C)\n",
    "        x = self.proj(x)\n",
    "        \n",
    "        return x\n",
    "\n",
    "\n",
    "class MLP(nn.Module):\n",
    "    \"\"\"Feed-forward network\"\"\"\n",
    "    \n",
    "    def __init__(self, embed_dim, hidden_dim=None, dropout=0.0):\n",
    "        super().__init__()\n",
    "        hidden_dim = hidden_dim or embed_dim * 4\n",
    "        \n",
    "        self.fc1 = nn.Linear(embed_dim, hidden_dim)\n",
    "        self.fc2 = nn.Linear(hidden_dim, embed_dim)\n",
    "        self.dropout = nn.Dropout(dropout)\n",
    "        self.activation = nn.GELU()\n",
    "    \n",
    "    def forward(self, x):\n",
    "        x = self.fc1(x)\n",
    "        x = self.activation(x)\n",
    "        x = self.dropout(x)\n",
    "        x = self.fc2(x)\n",
    "        x = self.dropout(x)\n",
    "        return x\n",
    "\n",
    "\n",
    "class TransformerBlock(nn.Module):\n",
    "    \"\"\"Transformer encoder block\"\"\"\n",
    "    \n",
    "    def __init__(self, embed_dim, num_heads, mlp_ratio=4.0, dropout=0.0, use_rope=False):\n",
    "        super().__init__()\n",
    "        \n",
    "        self.norm1 = nn.LayerNorm(embed_dim)\n",
    "        self.attn = MultiHeadAttention(embed_dim, num_heads, dropout, use_rope)\n",
    "        self.norm2 = nn.LayerNorm(embed_dim)\n",
    "        self.mlp = MLP(embed_dim, int(embed_dim * mlp_ratio), dropout)\n",
    "    \n",
    "    def forward(self, x):\n",
    "        # Self-attention with residual connection\n",
    "        x = x + self.attn(self.norm1(x))\n",
    "        # Feed-forward with residual connection\n",
    "        x = x + self.mlp(self.norm2(x))\n",
    "        return x\n",
    "\n",
    "\n",
    "class VisionTransformer(nn.Module):\n",
    "    \"\"\"Vision Transformer with optional RoPE support\"\"\"\n",
    "    \n",
    "    def __init__(\n",
    "        self,\n",
    "        img_size=224,\n",
    "        patch_size=16,\n",
    "        in_channels=3,\n",
    "        num_classes=1000,\n",
    "        embed_dim=768,\n",
    "        depth=12,\n",
    "        num_heads=12,\n",
    "        mlp_ratio=4.0,\n",
    "        dropout=0.0,\n",
    "        use_rope=False\n",
    "    ):\n",
    "        super().__init__()\n",
    "        \n",
    "        self.use_rope = use_rope\n",
    "        self.embed_dim = embed_dim\n",
    "        \n",
    "        # Patch embedding\n",
    "        self.patch_embed = PatchEmbedding(img_size, patch_size, in_channels, embed_dim)\n",
    "        num_patches = self.patch_embed.num_patches\n",
    "        \n",
    "        # Class token\n",
    "        self.cls_token = nn.Parameter(torch.zeros(1, 1, embed_dim))\n",
    "        \n",
    "        # Positional embedding (only for non-RoPE models)\n",
    "        if not use_rope:\n",
    "            self.pos_embed = nn.Parameter(torch.zeros(1, num_patches + 1, embed_dim))\n",
    "        \n",
    "        self.pos_dropout = nn.Dropout(dropout)\n",
    "        \n",
    "        # Transformer blocks\n",
    "        self.blocks = nn.ModuleList([\n",
    "            TransformerBlock(embed_dim, num_heads, mlp_ratio, dropout, use_rope)\n",
    "            for _ in range(depth)\n",
    "        ])\n",
    "        \n",
    "        # Output layers\n",
    "        self.norm = nn.LayerNorm(embed_dim)\n",
    "        self.head = nn.Linear(embed_dim, num_classes)\n",
    "        \n",
    "        # Initialize weights\n",
    "        self.init_weights()\n",
    "    \n",
    "    def init_weights(self):\n",
    "        \"\"\"Initialize model weights\"\"\"\n",
    "        # Initialize class token\n",
    "        nn.init.trunc_normal_(self.cls_token, std=0.02)\n",
    "        \n",
    "        # Initialize positional embedding\n",
    "        if hasattr(self, 'pos_embed'):\n",
    "            nn.init.trunc_normal_(self.pos_embed, std=0.02)\n",
    "        \n",
    "        # Initialize other layers\n",
    "        self.apply(self._init_weights)\n",
    "    \n",
    "    def _init_weights(self, m):\n",
    "        \"\"\"Initialize individual layer weights\"\"\"\n",
    "        if isinstance(m, nn.Linear):\n",
    "            nn.init.trunc_normal_(m.weight, std=0.02)\n",
    "            if m.bias is not None:\n",
    "                nn.init.constant_(m.bias, 0)\n",
    "        elif isinstance(m, nn.LayerNorm):\n",
    "            nn.init.constant_(m.bias, 0)\n",
    "            nn.init.constant_(m.weight, 1.0)\n",
    "    \n",
    "    def forward(self, x):\n",
    "        B = x.shape[0]\n",
    "        \n",
    "        # Patch embedding\n",
    "        x = self.patch_embed(x)  # [B, num_patches, embed_dim]\n",
    "        \n",
    "        # Add class token\n",
    "        cls_tokens = self.cls_token.expand(B, -1, -1)\n",
    "        x = torch.cat([cls_tokens, x], dim=1)  # [B, num_patches+1, embed_dim]\n",
    "        \n",
    "        # Add positional embedding (for non-RoPE models)\n",
    "        if not self.use_rope:\n",
    "            x = x + self.pos_embed\n",
    "        \n",
    "        x = self.pos_dropout(x)\n",
    "        \n",
    "        # Apply transformer blocks\n",
    "        for block in self.blocks:\n",
    "            x = block(x)\n",
    "        \n",
    "        # Final normalization\n",
    "        x = self.norm(x)\n",
    "        \n",
    "        # Classification head (use CLS token)\n",
    "        cls_output = x[:, 0]\n",
    "        logits = self.head(cls_output)\n",
    "        \n",
    "        return logits\n",
    "\n",
    "\n",
    "device = torch.device('cuda' if torch.cuda.is_available() else 'cpu')\n",
    "\n",
    "# Test standard ViT\n",
    "model_standard = VisionTransformer(\n",
    "    img_size=224, patch_size=16, num_classes=10,\n",
    "    embed_dim=192, depth=6, num_heads=3, use_rope=False\n",
    ").to(device)\n",
    "\n",
    "# Test RoPE ViT\n",
    "model_rope = VisionTransformer(\n",
    "    img_size=224, patch_size=16, num_classes=10,\n",
    "    embed_dim=192, depth=6, num_heads=3, use_rope=True\n",
    ").to(device)\n",
    "\n",
    "# Test input\n",
    "x = torch.randn(2, 3, 224, 224).to(device)\n",
    "\n",
    "with torch.no_grad():\n",
    "    out_standard = model_standard(x)\n",
    "    out_rope = model_rope(x)\n",
    "\n",
    "print(f\"Standard ViT output shape: {out_standard.shape}\")\n",
    "print(f\"RoPE ViT output shape: {out_rope.shape}\")\n",
    "print(f\"Parameters - Standard: {sum(p.numel() for p in model_standard.parameters()):,}\")\n",
    "print(f\"Parameters - RoPE: {sum(p.numel() for p in model_rope.parameters()):,}\")\n",
    "\n",
    "print(\"Vision Transformer with RoPE implementation loaded successfully!\")"
   ]
  },
  {
   "cell_type": "code",
   "execution_count": 2,
   "id": "aafed7b3",
   "metadata": {
    "execution": {
     "iopub.execute_input": "2025-05-25T14:05:16.511800Z",
     "iopub.status.busy": "2025-05-25T14:05:16.511472Z",
     "iopub.status.idle": "2025-05-25T14:05:21.053039Z",
     "shell.execute_reply": "2025-05-25T14:05:21.052091Z"
    },
    "papermill": {
     "duration": 4.546024,
     "end_time": "2025-05-25T14:05:21.054239",
     "exception": false,
     "start_time": "2025-05-25T14:05:16.508215",
     "status": "completed"
    },
    "tags": []
   },
   "outputs": [
    {
     "name": "stdout",
     "output_type": "stream",
     "text": [
      "Requirement already satisfied: transformers in /usr/local/lib/python3.11/dist-packages (4.51.3)\r\n",
      "Requirement already satisfied: datasets in /usr/local/lib/python3.11/dist-packages (3.6.0)\r\n",
      "Requirement already satisfied: matplotlib in /usr/local/lib/python3.11/dist-packages (3.7.2)\r\n",
      "Requirement already satisfied: filelock in /usr/local/lib/python3.11/dist-packages (from transformers) (3.18.0)\r\n",
      "Requirement already satisfied: huggingface-hub<1.0,>=0.30.0 in /usr/local/lib/python3.11/dist-packages (from transformers) (0.31.1)\r\n",
      "Requirement already satisfied: numpy>=1.17 in /usr/local/lib/python3.11/dist-packages (from transformers) (1.26.4)\r\n",
      "Requirement already satisfied: packaging>=20.0 in /usr/local/lib/python3.11/dist-packages (from transformers) (25.0)\r\n",
      "Requirement already satisfied: pyyaml>=5.1 in /usr/local/lib/python3.11/dist-packages (from transformers) (6.0.2)\r\n",
      "Requirement already satisfied: regex!=2019.12.17 in /usr/local/lib/python3.11/dist-packages (from transformers) (2024.11.6)\r\n",
      "Requirement already satisfied: requests in /usr/local/lib/python3.11/dist-packages (from transformers) (2.32.3)\r\n",
      "Requirement already satisfied: tokenizers<0.22,>=0.21 in /usr/local/lib/python3.11/dist-packages (from transformers) (0.21.1)\r\n",
      "Requirement already satisfied: safetensors>=0.4.3 in /usr/local/lib/python3.11/dist-packages (from transformers) (0.5.3)\r\n",
      "Requirement already satisfied: tqdm>=4.27 in /usr/local/lib/python3.11/dist-packages (from transformers) (4.67.1)\r\n",
      "Requirement already satisfied: pyarrow>=15.0.0 in /usr/local/lib/python3.11/dist-packages (from datasets) (19.0.1)\r\n",
      "Requirement already satisfied: dill<0.3.9,>=0.3.0 in /usr/local/lib/python3.11/dist-packages (from datasets) (0.3.8)\r\n",
      "Requirement already satisfied: pandas in /usr/local/lib/python3.11/dist-packages (from datasets) (2.2.3)\r\n",
      "Requirement already satisfied: xxhash in /usr/local/lib/python3.11/dist-packages (from datasets) (3.5.0)\r\n",
      "Requirement already satisfied: multiprocess<0.70.17 in /usr/local/lib/python3.11/dist-packages (from datasets) (0.70.16)\r\n",
      "Collecting fsspec<=2025.3.0,>=2023.1.0 (from fsspec[http]<=2025.3.0,>=2023.1.0->datasets)\r\n",
      "  Downloading fsspec-2025.3.0-py3-none-any.whl.metadata (11 kB)\r\n",
      "Requirement already satisfied: contourpy>=1.0.1 in /usr/local/lib/python3.11/dist-packages (from matplotlib) (1.3.1)\r\n",
      "Requirement already satisfied: cycler>=0.10 in /usr/local/lib/python3.11/dist-packages (from matplotlib) (0.12.1)\r\n",
      "Requirement already satisfied: fonttools>=4.22.0 in /usr/local/lib/python3.11/dist-packages (from matplotlib) (4.57.0)\r\n",
      "Requirement already satisfied: kiwisolver>=1.0.1 in /usr/local/lib/python3.11/dist-packages (from matplotlib) (1.4.8)\r\n",
      "Requirement already satisfied: pillow>=6.2.0 in /usr/local/lib/python3.11/dist-packages (from matplotlib) (11.1.0)\r\n",
      "Requirement already satisfied: pyparsing<3.1,>=2.3.1 in /usr/local/lib/python3.11/dist-packages (from matplotlib) (3.0.9)\r\n",
      "Requirement already satisfied: python-dateutil>=2.7 in /usr/local/lib/python3.11/dist-packages (from matplotlib) (2.9.0.post0)\r\n",
      "Requirement already satisfied: aiohttp!=4.0.0a0,!=4.0.0a1 in /usr/local/lib/python3.11/dist-packages (from fsspec[http]<=2025.3.0,>=2023.1.0->datasets) (3.11.18)\r\n",
      "Requirement already satisfied: typing-extensions>=3.7.4.3 in /usr/local/lib/python3.11/dist-packages (from huggingface-hub<1.0,>=0.30.0->transformers) (4.13.2)\r\n",
      "Requirement already satisfied: hf-xet<2.0.0,>=1.1.0 in /usr/local/lib/python3.11/dist-packages (from huggingface-hub<1.0,>=0.30.0->transformers) (1.1.0)\r\n",
      "Requirement already satisfied: mkl_fft in /usr/local/lib/python3.11/dist-packages (from numpy>=1.17->transformers) (1.3.8)\r\n",
      "Requirement already satisfied: mkl_random in /usr/local/lib/python3.11/dist-packages (from numpy>=1.17->transformers) (1.2.4)\r\n",
      "Requirement already satisfied: mkl_umath in /usr/local/lib/python3.11/dist-packages (from numpy>=1.17->transformers) (0.1.1)\r\n",
      "Requirement already satisfied: mkl in /usr/local/lib/python3.11/dist-packages (from numpy>=1.17->transformers) (2025.1.0)\r\n",
      "Requirement already satisfied: tbb4py in /usr/local/lib/python3.11/dist-packages (from numpy>=1.17->transformers) (2022.1.0)\r\n",
      "Requirement already satisfied: mkl-service in /usr/local/lib/python3.11/dist-packages (from numpy>=1.17->transformers) (2.4.1)\r\n",
      "Requirement already satisfied: six>=1.5 in /usr/local/lib/python3.11/dist-packages (from python-dateutil>=2.7->matplotlib) (1.17.0)\r\n",
      "Requirement already satisfied: charset-normalizer<4,>=2 in /usr/local/lib/python3.11/dist-packages (from requests->transformers) (3.4.2)\r\n",
      "Requirement already satisfied: idna<4,>=2.5 in /usr/local/lib/python3.11/dist-packages (from requests->transformers) (3.10)\r\n",
      "Requirement already satisfied: urllib3<3,>=1.21.1 in /usr/local/lib/python3.11/dist-packages (from requests->transformers) (2.4.0)\r\n",
      "Requirement already satisfied: certifi>=2017.4.17 in /usr/local/lib/python3.11/dist-packages (from requests->transformers) (2025.4.26)\r\n",
      "Requirement already satisfied: pytz>=2020.1 in /usr/local/lib/python3.11/dist-packages (from pandas->datasets) (2025.2)\r\n",
      "Requirement already satisfied: tzdata>=2022.7 in /usr/local/lib/python3.11/dist-packages (from pandas->datasets) (2025.2)\r\n",
      "Requirement already satisfied: aiohappyeyeballs>=2.3.0 in /usr/local/lib/python3.11/dist-packages (from aiohttp!=4.0.0a0,!=4.0.0a1->fsspec[http]<=2025.3.0,>=2023.1.0->datasets) (2.6.1)\r\n",
      "Requirement already satisfied: aiosignal>=1.1.2 in /usr/local/lib/python3.11/dist-packages (from aiohttp!=4.0.0a0,!=4.0.0a1->fsspec[http]<=2025.3.0,>=2023.1.0->datasets) (1.3.2)\r\n",
      "Requirement already satisfied: attrs>=17.3.0 in /usr/local/lib/python3.11/dist-packages (from aiohttp!=4.0.0a0,!=4.0.0a1->fsspec[http]<=2025.3.0,>=2023.1.0->datasets) (25.3.0)\r\n",
      "Requirement already satisfied: frozenlist>=1.1.1 in /usr/local/lib/python3.11/dist-packages (from aiohttp!=4.0.0a0,!=4.0.0a1->fsspec[http]<=2025.3.0,>=2023.1.0->datasets) (1.6.0)\r\n",
      "Requirement already satisfied: multidict<7.0,>=4.5 in /usr/local/lib/python3.11/dist-packages (from aiohttp!=4.0.0a0,!=4.0.0a1->fsspec[http]<=2025.3.0,>=2023.1.0->datasets) (6.4.3)\r\n",
      "Requirement already satisfied: propcache>=0.2.0 in /usr/local/lib/python3.11/dist-packages (from aiohttp!=4.0.0a0,!=4.0.0a1->fsspec[http]<=2025.3.0,>=2023.1.0->datasets) (0.3.1)\r\n",
      "Requirement already satisfied: yarl<2.0,>=1.17.0 in /usr/local/lib/python3.11/dist-packages (from aiohttp!=4.0.0a0,!=4.0.0a1->fsspec[http]<=2025.3.0,>=2023.1.0->datasets) (1.20.0)\r\n",
      "Requirement already satisfied: intel-openmp<2026,>=2024 in /usr/local/lib/python3.11/dist-packages (from mkl->numpy>=1.17->transformers) (2024.2.0)\r\n",
      "Requirement already satisfied: tbb==2022.* in /usr/local/lib/python3.11/dist-packages (from mkl->numpy>=1.17->transformers) (2022.1.0)\r\n",
      "Requirement already satisfied: tcmlib==1.* in /usr/local/lib/python3.11/dist-packages (from tbb==2022.*->mkl->numpy>=1.17->transformers) (1.3.0)\r\n",
      "Requirement already satisfied: intel-cmplr-lib-rt in /usr/local/lib/python3.11/dist-packages (from mkl_umath->numpy>=1.17->transformers) (2024.2.0)\r\n",
      "Requirement already satisfied: intel-cmplr-lib-ur==2024.2.0 in /usr/local/lib/python3.11/dist-packages (from intel-openmp<2026,>=2024->mkl->numpy>=1.17->transformers) (2024.2.0)\r\n",
      "Downloading fsspec-2025.3.0-py3-none-any.whl (193 kB)\r\n",
      "\u001b[2K   \u001b[90m━━━━━━━━━━━━━━━━━━━━━━━━━━━━━━━━━━━━━━━━\u001b[0m \u001b[32m193.6/193.6 kB\u001b[0m \u001b[31m6.0 MB/s\u001b[0m eta \u001b[36m0:00:00\u001b[0m\r\n",
      "\u001b[?25hInstalling collected packages: fsspec\r\n",
      "  Attempting uninstall: fsspec\r\n",
      "    Found existing installation: fsspec 2025.3.2\r\n",
      "    Uninstalling fsspec-2025.3.2:\r\n",
      "      Successfully uninstalled fsspec-2025.3.2\r\n",
      "\u001b[31mERROR: pip's dependency resolver does not currently take into account all the packages that are installed. This behaviour is the source of the following dependency conflicts.\r\n",
      "cesium 0.12.4 requires numpy<3.0,>=2.0, but you have numpy 1.26.4 which is incompatible.\r\n",
      "bigframes 1.42.0 requires rich<14,>=12.4.4, but you have rich 14.0.0 which is incompatible.\r\n",
      "torch 2.6.0+cu124 requires nvidia-cublas-cu12==12.4.5.8; platform_system == \"Linux\" and platform_machine == \"x86_64\", but you have nvidia-cublas-cu12 12.9.0.13 which is incompatible.\r\n",
      "torch 2.6.0+cu124 requires nvidia-cudnn-cu12==9.1.0.70; platform_system == \"Linux\" and platform_machine == \"x86_64\", but you have nvidia-cudnn-cu12 9.3.0.75 which is incompatible.\r\n",
      "torch 2.6.0+cu124 requires nvidia-cufft-cu12==11.2.1.3; platform_system == \"Linux\" and platform_machine == \"x86_64\", but you have nvidia-cufft-cu12 11.4.0.6 which is incompatible.\r\n",
      "torch 2.6.0+cu124 requires nvidia-curand-cu12==10.3.5.147; platform_system == \"Linux\" and platform_machine == \"x86_64\", but you have nvidia-curand-cu12 10.3.10.19 which is incompatible.\r\n",
      "torch 2.6.0+cu124 requires nvidia-cusolver-cu12==11.6.1.9; platform_system == \"Linux\" and platform_machine == \"x86_64\", but you have nvidia-cusolver-cu12 11.7.4.40 which is incompatible.\r\n",
      "torch 2.6.0+cu124 requires nvidia-cusparse-cu12==12.3.1.170; platform_system == \"Linux\" and platform_machine == \"x86_64\", but you have nvidia-cusparse-cu12 12.5.9.5 which is incompatible.\r\n",
      "torch 2.6.0+cu124 requires nvidia-nvjitlink-cu12==12.4.127; platform_system == \"Linux\" and platform_machine == \"x86_64\", but you have nvidia-nvjitlink-cu12 12.9.41 which is incompatible.\r\n",
      "gcsfs 2025.3.2 requires fsspec==2025.3.2, but you have fsspec 2025.3.0 which is incompatible.\u001b[0m\u001b[31m\r\n",
      "\u001b[0mSuccessfully installed fsspec-2025.3.0\r\n",
      "Note: you may need to restart the kernel to use updated packages.\n"
     ]
    }
   ],
   "source": [
    "%pip install transformers datasets matplotlib"
   ]
  },
  {
   "cell_type": "code",
   "execution_count": 3,
   "id": "3fd58bc4",
   "metadata": {
    "execution": {
     "iopub.execute_input": "2025-05-25T14:05:21.062417Z",
     "iopub.status.busy": "2025-05-25T14:05:21.062164Z",
     "iopub.status.idle": "2025-05-25T14:06:03.251883Z",
     "shell.execute_reply": "2025-05-25T14:06:03.251078Z"
    },
    "papermill": {
     "duration": 42.195114,
     "end_time": "2025-05-25T14:06:03.253036",
     "exception": false,
     "start_time": "2025-05-25T14:05:21.057922",
     "status": "completed"
    },
    "tags": []
   },
   "outputs": [
    {
     "data": {
      "application/vnd.jupyter.widget-view+json": {
       "model_id": "fd0827b3664c4d19a28038f256b47e3b",
       "version_major": 2,
       "version_minor": 0
      },
      "text/plain": [
       "README.md:   0%|          | 0.00/8.16k [00:00<?, ?B/s]"
      ]
     },
     "metadata": {},
     "output_type": "display_data"
    },
    {
     "data": {
      "application/vnd.jupyter.widget-view+json": {
       "model_id": "8a9df1a49a014a8385477c7677f07469",
       "version_major": 2,
       "version_minor": 0
      },
      "text/plain": [
       "train-00000-of-00002.parquet:   0%|          | 0.00/330M [00:00<?, ?B/s]"
      ]
     },
     "metadata": {},
     "output_type": "display_data"
    },
    {
     "data": {
      "application/vnd.jupyter.widget-view+json": {
       "model_id": "f10e0fffe2074842a2d3aef919cd3510",
       "version_major": 2,
       "version_minor": 0
      },
      "text/plain": [
       "train-00001-of-00002.parquet:   0%|          | 0.00/391M [00:00<?, ?B/s]"
      ]
     },
     "metadata": {},
     "output_type": "display_data"
    },
    {
     "data": {
      "application/vnd.jupyter.widget-view+json": {
       "model_id": "7abea2d4ed864fa1ae33b59595477cb5",
       "version_major": 2,
       "version_minor": 0
      },
      "text/plain": [
       "Generating train split:   0%|          | 0/23410 [00:00<?, ? examples/s]"
      ]
     },
     "metadata": {},
     "output_type": "display_data"
    },
    {
     "data": {
      "application/vnd.jupyter.widget-view+json": {
       "model_id": "b2042eacf2de459eb3d0456f25e33bd9",
       "version_major": 2,
       "version_minor": 0
      },
      "text/plain": [
       "Filter:   0%|          | 0/23410 [00:00<?, ? examples/s]"
      ]
     },
     "metadata": {},
     "output_type": "display_data"
    },
    {
     "name": "stdout",
     "output_type": "stream",
     "text": [
      "Original train size: 21061, Filtered train size: 21061\n",
      "Original test size: 2341, Filtered test size: 2341\n"
     ]
    },
    {
     "data": {
      "text/plain": [
       "Dataset({\n",
       "    features: ['image', 'labels'],\n",
       "    num_rows: 21061\n",
       "})"
      ]
     },
     "metadata": {},
     "output_type": "display_data"
    },
    {
     "data": {
      "text/plain": [
       "Dataset({\n",
       "    features: ['image', 'labels'],\n",
       "    num_rows: 2341\n",
       "})"
      ]
     },
     "metadata": {},
     "output_type": "display_data"
    }
   ],
   "source": [
    "# huggingface load cats vs dogs microsoft/cats_vs_dogs\n",
    "from datasets import load_dataset\n",
    "import numpy as np\n",
    "\n",
    "dataset = load_dataset(\"cats_vs_dogs\")\n",
    "\n",
    "# Function to check if an image has 3 channels\n",
    "def check_image_channels(example):\n",
    "    # Check if image has 3 channels (RGB)\n",
    "    return np.array(example['image']).shape[-1] == 3\n",
    "\n",
    "# currently only train is available, split into train and test\n",
    "train_test = dataset['train'].filter(check_image_channels).train_test_split(test_size=0.1, stratify_by_column='labels')\n",
    "# Filter out images that don't have 3 channels\n",
    "train_dataset = train_test['train']\n",
    "test_dataset = train_test['test']\n",
    "\n",
    "print(f\"Original train size: {len(train_test['train'])}, Filtered train size: {len(train_dataset)}\")\n",
    "print(f\"Original test size: {len(train_test['test'])}, Filtered test size: {len(test_dataset)}\")\n",
    "\n",
    "display(train_dataset)\n",
    "display(test_dataset)"
   ]
  },
  {
   "cell_type": "code",
   "execution_count": 4,
   "id": "d195398e",
   "metadata": {
    "execution": {
     "iopub.execute_input": "2025-05-25T14:06:03.262216Z",
     "iopub.status.busy": "2025-05-25T14:06:03.261657Z",
     "iopub.status.idle": "2025-05-25T14:06:34.876055Z",
     "shell.execute_reply": "2025-05-25T14:06:34.875323Z"
    },
    "papermill": {
     "duration": 31.619927,
     "end_time": "2025-05-25T14:06:34.877126",
     "exception": false,
     "start_time": "2025-05-25T14:06:03.257199",
     "status": "completed"
    },
    "tags": []
   },
   "outputs": [
    {
     "data": {
      "application/vnd.jupyter.widget-view+json": {
       "model_id": "5529deda299c4b9ea84b248faab4130a",
       "version_major": 2,
       "version_minor": 0
      },
      "text/plain": [
       "Filter:   0%|          | 0/23410 [00:00<?, ? examples/s]"
      ]
     },
     "metadata": {},
     "output_type": "display_data"
    },
    {
     "name": "stdout",
     "output_type": "stream",
     "text": [
      "Train class counts:\n",
      "{0: 3, 1: 5}\n"
     ]
    }
   ],
   "source": [
    "# count the number of images in each class\n",
    "import numpy as np\n",
    "dataset = load_dataset(\"cats_vs_dogs\")\n",
    "# Function to check if an image has 3 channels\n",
    "def check_image_channels(example):\n",
    "    # Check if image has 3 channels (RGB)\n",
    "    return np.array(example['image']).shape[-1] != 3\n",
    "\n",
    "# currently only train is available, split into train and test\n",
    "train_test = dataset['train'].filter(check_image_channels)\n",
    "labels = train_test['labels']\n",
    "unique, counts = np.unique(labels, return_counts=True)\n",
    "train_class_counts = dict(zip(unique, counts))\n",
    "print(\"Train class counts:\")\n",
    "print(train_class_counts)"
   ]
  },
  {
   "cell_type": "code",
   "execution_count": 5,
   "id": "ab0aa43e",
   "metadata": {
    "execution": {
     "iopub.execute_input": "2025-05-25T14:06:34.886399Z",
     "iopub.status.busy": "2025-05-25T14:06:34.886140Z",
     "iopub.status.idle": "2025-05-25T14:06:35.308403Z",
     "shell.execute_reply": "2025-05-25T14:06:35.307632Z"
    },
    "papermill": {
     "duration": 0.439839,
     "end_time": "2025-05-25T14:06:35.321254",
     "exception": false,
     "start_time": "2025-05-25T14:06:34.881415",
     "status": "completed"
    },
    "tags": []
   },
   "outputs": [
    {
     "data": {
      "image/png": "[encoded data removed]",
      "text/plain": [
       "<Figure size 1500x500 with 5 Axes>"
      ]
     },
     "metadata": {},
     "output_type": "display_data"
    }
   ],
   "source": [
    "# sample a few images in train dataset\n",
    "import matplotlib.pyplot as plt\n",
    "import numpy as np\n",
    "\n",
    "def show_images(dataset, n=5):\n",
    "    fig, axes = plt.subplots(1, n, figsize=(15, 5))\n",
    "    for i in range(n):\n",
    "        image = dataset[i]['image']\n",
    "        label = dataset[i]['labels']\n",
    "        axes[i].imshow(image)\n",
    "        axes[i].set_title(f\"Label: {label}\")\n",
    "        axes[i].axis('off')\n",
    "    plt.show()\n",
    "\n",
    "show_images(train_test, n=5)"
   ]
  },
  {
   "cell_type": "code",
   "execution_count": 6,
   "id": "dfff2668",
   "metadata": {
    "execution": {
     "iopub.execute_input": "2025-05-25T14:06:35.344409Z",
     "iopub.status.busy": "2025-05-25T14:06:35.344099Z",
     "iopub.status.idle": "2025-05-25T14:06:40.307036Z",
     "shell.execute_reply": "2025-05-25T14:06:40.306381Z"
    },
    "papermill": {
     "duration": 4.975411,
     "end_time": "2025-05-25T14:06:40.308490",
     "exception": false,
     "start_time": "2025-05-25T14:06:35.333079",
     "status": "completed"
    },
    "tags": []
   },
   "outputs": [],
   "source": [
    "# define a data loader with lazy transformations\n",
    "from torch.utils.data import DataLoader, Dataset\n",
    "from torchvision import transforms\n",
    "\n",
    "# Define transform pipeline\n",
    "transform = transforms.Compose([\n",
    "    transforms.Resize((320, 320)),\n",
    "    transforms.ToTensor(),\n",
    "])\n",
    "\n",
    "# Custom dataset class for lazy transformation\n",
    "class TransformedDataset(Dataset):\n",
    "    def __init__(self, dataset, transform=None):\n",
    "        self.dataset = dataset\n",
    "        self.transform = transform\n",
    "\n",
    "    def __len__(self):\n",
    "        return len(self.dataset)\n",
    "\n",
    "    def __getitem__(self, idx):\n",
    "        item = self.dataset[idx]\n",
    "        image = item['image']\n",
    "        label = item['labels']\n",
    "        \n",
    "        if self.transform:\n",
    "            image = self.transform(image)\n",
    "            \n",
    "        return {'image': image, 'labels': label}\n",
    "\n",
    "# Create dataset with lazy transformations\n",
    "train_dataset_transformed = TransformedDataset(train_dataset, transform)\n",
    "test_dataset_transformed = TransformedDataset(test_dataset, transform)\n",
    "\n",
    "# Create data loaders\n",
    "train_loader = DataLoader(train_dataset_transformed, batch_size=8, shuffle=True)\n",
    "test_loader = DataLoader(test_dataset_transformed, batch_size=8, shuffle=False)\n"
   ]
  },
  {
   "cell_type": "code",
   "execution_count": 7,
   "id": "b1dabca1",
   "metadata": {
    "execution": {
     "iopub.execute_input": "2025-05-25T14:06:40.330146Z",
     "iopub.status.busy": "2025-05-25T14:06:40.329288Z",
     "iopub.status.idle": "2025-05-25T14:06:40.734554Z",
     "shell.execute_reply": "2025-05-25T14:06:40.733413Z"
    },
    "papermill": {
     "duration": 0.417316,
     "end_time": "2025-05-25T14:06:40.736070",
     "exception": false,
     "start_time": "2025-05-25T14:06:40.318754",
     "status": "completed"
    },
    "tags": []
   },
   "outputs": [
    {
     "name": "stdout",
     "output_type": "stream",
     "text": [
      "\n",
      "=== Baseline ViT ===\n",
      "Description: Standard baseline configuration\n",
      "Parameters: 3.97M\n",
      "Config: {'img_size': 320, 'patch_size': 32, 'num_classes': 2, 'depth': 4, 'embed_dim': 256, 'num_heads': 4, 'use_rope': False}\n",
      "\n",
      "=== RoPE ViT ===\n",
      "Description: RoPE positional encoding comparison\n",
      "Parameters: 3.94M\n",
      "Config: {'img_size': 320, 'patch_size': 32, 'num_classes': 2, 'depth': 4, 'embed_dim': 256, 'num_heads': 4, 'use_rope': True}\n",
      "\n",
      "=== More Attention Heads ===\n",
      "Description: Increased attention heads for diverse patterns\n",
      "Parameters: 3.97M\n",
      "Config: {'img_size': 320, 'patch_size': 32, 'num_classes': 2, 'depth': 4, 'embed_dim': 256, 'num_heads': 8, 'use_rope': False}\n",
      "\n",
      "=== Higher Embedding Dimension ===\n",
      "Description: Larger embedding dimension for richer representations\n",
      "Parameters: 14.23M\n",
      "Config: {'img_size': 320, 'patch_size': 32, 'num_classes': 2, 'depth': 4, 'embed_dim': 512, 'num_heads': 8, 'use_rope': False}\n",
      "\n",
      "=== Smaller Patch Size ===\n",
      "Description: Smaller patches for finer-grained attention\n",
      "Parameters: 3.46M\n",
      "Config: {'img_size': 320, 'patch_size': 16, 'num_classes': 2, 'depth': 4, 'embed_dim': 256, 'num_heads': 4, 'use_rope': False}\n",
      "\n",
      "=== Lower Embedding Dimension ===\n",
      "Description: Smaller embedding dimension for efficiency\n",
      "Parameters: 1.20M\n",
      "Config: {'img_size': 320, 'patch_size': 32, 'num_classes': 2, 'depth': 4, 'embed_dim': 128, 'num_heads': 4, 'use_rope': False}\n",
      "\n",
      "============================================================\n",
      "EXPERIMENT SUMMARY\n",
      "============================================================\n",
      "Baseline ViT: 3.97M parameters\n",
      "RoPE ViT: 3.94M parameters\n",
      "More Attention Heads: 3.97M parameters\n",
      "Higher Embedding Dimension: 14.23M parameters\n",
      "Smaller Patch Size: 3.46M parameters\n",
      "Lower Embedding Dimension: 1.20M parameters\n"
     ]
    }
   ],
   "source": [
    "# Experimental Configurations for Vision Transformer Comparison\n",
    "# 6 experiments focusing on num_heads, embed_dimensions, and patch_size with one RoPE comparison\n",
    "\n",
    "experiments = {\n",
    "    \"baseline\": {\n",
    "        \"name\": \"Baseline ViT\",\n",
    "        \"description\": \"Standard baseline configuration\",\n",
    "        \"config\": {\n",
    "            \"img_size\": 320,\n",
    "            \"patch_size\": 32,\n",
    "            \"num_classes\": 2,\n",
    "            \"depth\": 4,\n",
    "            \"embed_dim\": 256,\n",
    "            \"num_heads\": 4,\n",
    "            \"use_rope\": False\n",
    "        }\n",
    "    },\n",
    "    \n",
    "    \"rope_comparison\": {\n",
    "        \"name\": \"RoPE ViT\",\n",
    "        \"description\": \"RoPE positional encoding comparison\",\n",
    "        \"config\": {\n",
    "            \"img_size\": 320,\n",
    "            \"patch_size\": 32,\n",
    "            \"num_classes\": 2,\n",
    "            \"depth\": 4,\n",
    "            \"embed_dim\": 256,\n",
    "            \"num_heads\": 4,\n",
    "            \"use_rope\": True\n",
    "        }\n",
    "    },\n",
    "    \n",
    "    \"more_heads\": {\n",
    "        \"name\": \"More Attention Heads\",\n",
    "        \"description\": \"Increased attention heads for diverse patterns\",\n",
    "        \"config\": {\n",
    "            \"img_size\": 320,\n",
    "            \"patch_size\": 32,\n",
    "            \"num_classes\": 2,\n",
    "            \"depth\": 4,\n",
    "            \"embed_dim\": 256,\n",
    "            \"num_heads\": 8,\n",
    "            \"use_rope\": False\n",
    "        }\n",
    "    },\n",
    "    \n",
    "    \"higher_embed_dim\": {\n",
    "        \"name\": \"Higher Embedding Dimension\",\n",
    "        \"description\": \"Larger embedding dimension for richer representations\",\n",
    "        \"config\": {\n",
    "            \"img_size\": 320,\n",
    "            \"patch_size\": 32,\n",
    "            \"num_classes\": 2,\n",
    "            \"depth\": 4,\n",
    "            \"embed_dim\": 512,\n",
    "            \"num_heads\": 8,\n",
    "            \"use_rope\": False\n",
    "        }\n",
    "    },\n",
    "    \n",
    "    \"smaller_patches\": {\n",
    "        \"name\": \"Smaller Patch Size\",\n",
    "        \"description\": \"Smaller patches for finer-grained attention\",\n",
    "        \"config\": {\n",
    "            \"img_size\": 320,\n",
    "            \"patch_size\": 16,\n",
    "            \"num_classes\": 2,\n",
    "            \"depth\": 4,\n",
    "            \"embed_dim\": 256,\n",
    "            \"num_heads\": 4,\n",
    "            \"use_rope\": False\n",
    "        }\n",
    "    },\n",
    "    \n",
    "    \"lower_embed_dim\": {\n",
    "        \"name\": \"Lower Embedding Dimension\",\n",
    "        \"description\": \"Smaller embedding dimension for efficiency\",\n",
    "        \"config\": {\n",
    "            \"img_size\": 320,\n",
    "            \"patch_size\": 32,\n",
    "            \"num_classes\": 2,\n",
    "            \"depth\": 4,\n",
    "            \"embed_dim\": 128,\n",
    "            \"num_heads\": 4,\n",
    "            \"use_rope\": False\n",
    "        }\n",
    "    }\n",
    "}\n",
    "\n",
    "# Create models for each experiment\n",
    "models = {}\n",
    "for exp_name, exp_config in experiments.items():\n",
    "    print(f\"\\n=== {exp_config['name']} ===\")\n",
    "    print(f\"Description: {exp_config['description']}\")\n",
    "        \n",
    "    model = VisionTransformer(**exp_config['config'])\n",
    "    model_params = sum(p.numel() for p in model.parameters() if p.requires_grad)\n",
    "    \n",
    "    models[exp_name] = {\n",
    "        'model': model,\n",
    "        'params': model_params,\n",
    "        'config': exp_config['config'],\n",
    "        'name': exp_config['name']\n",
    "    }\n",
    "    \n",
    "    print(f\"Parameters: {model_params / 1e6:.2f}M\")\n",
    "    print(f\"Config: {exp_config['config']}\")\n",
    "\n",
    "print(\"\\n\" + \"=\"*60)\n",
    "print(\"EXPERIMENT SUMMARY\")\n",
    "print(\"=\"*60)\n",
    "for exp_name, model_info in models.items():\n",
    "    print(f\"{model_info['name']}: {model_info['params'] / 1e6:.2f}M parameters\")"
   ]
  },
  {
   "cell_type": "code",
   "execution_count": 8,
   "id": "e09ddf25",
   "metadata": {
    "execution": {
     "iopub.execute_input": "2025-05-25T14:06:40.758809Z",
     "iopub.status.busy": "2025-05-25T14:06:40.758550Z",
     "iopub.status.idle": "2025-05-25T17:28:41.873063Z",
     "shell.execute_reply": "2025-05-25T17:28:41.872282Z"
    },
    "papermill": {
     "duration": 12121.126412,
     "end_time": "2025-05-25T17:28:41.874442",
     "exception": false,
     "start_time": "2025-05-25T14:06:40.748030",
     "status": "completed"
    },
    "tags": []
   },
   "outputs": [
    {
     "name": "stdout",
     "output_type": "stream",
     "text": [
      "Training on device: cuda\n",
      "\n",
      "==================== TRAINING Baseline ViT ====================\n",
      "Parameters: 3.97M\n"
     ]
    },
    {
     "name": "stderr",
     "output_type": "stream",
     "text": [
      "                                                                                        \r"
     ]
    },
    {
     "name": "stdout",
     "output_type": "stream",
     "text": [
      "Epoch 1: Loss=0.6850, Train Acc=0.5532, Test Acc=0.5019\n"
     ]
    },
    {
     "name": "stderr",
     "output_type": "stream",
     "text": [
      "                                                                                        \r"
     ]
    },
    {
     "name": "stdout",
     "output_type": "stream",
     "text": [
      "Epoch 2: Loss=0.6455, Train Acc=0.6150, Test Acc=0.6215\n"
     ]
    },
    {
     "name": "stderr",
     "output_type": "stream",
     "text": [
      "                                                                                        \r"
     ]
    },
    {
     "name": "stdout",
     "output_type": "stream",
     "text": [
      "Epoch 3: Loss=0.6146, Train Acc=0.6470, Test Acc=0.6681\n"
     ]
    },
    {
     "name": "stderr",
     "output_type": "stream",
     "text": [
      "                                                                                        \r"
     ]
    },
    {
     "name": "stdout",
     "output_type": "stream",
     "text": [
      "Epoch 4: Loss=0.6012, Train Acc=0.6665, Test Acc=0.6826\n"
     ]
    },
    {
     "name": "stderr",
     "output_type": "stream",
     "text": [
      "                                                                                        \r"
     ]
    },
    {
     "name": "stdout",
     "output_type": "stream",
     "text": [
      "Epoch 5: Loss=0.5835, Train Acc=0.6830, Test Acc=0.6826\n"
     ]
    },
    {
     "name": "stderr",
     "output_type": "stream",
     "text": [
      "                                                                                        \r"
     ]
    },
    {
     "name": "stdout",
     "output_type": "stream",
     "text": [
      "Epoch 6: Loss=0.5667, Train Acc=0.6993, Test Acc=0.6865\n"
     ]
    },
    {
     "name": "stderr",
     "output_type": "stream",
     "text": [
      "                                                                                        \r"
     ]
    },
    {
     "name": "stdout",
     "output_type": "stream",
     "text": [
      "Epoch 7: Loss=0.5553, Train Acc=0.7118, Test Acc=0.7010\n"
     ]
    },
    {
     "name": "stderr",
     "output_type": "stream",
     "text": [
      "                                                                                        \r"
     ]
    },
    {
     "name": "stdout",
     "output_type": "stream",
     "text": [
      "Epoch 8: Loss=0.5431, Train Acc=0.7218, Test Acc=0.6912\n"
     ]
    },
    {
     "name": "stderr",
     "output_type": "stream",
     "text": [
      "                                                                                        \r"
     ]
    },
    {
     "name": "stdout",
     "output_type": "stream",
     "text": [
      "Epoch 9: Loss=0.5333, Train Acc=0.7287, Test Acc=0.6954\n"
     ]
    },
    {
     "name": "stderr",
     "output_type": "stream",
     "text": [
      "                                                                                         \r"
     ]
    },
    {
     "name": "stdout",
     "output_type": "stream",
     "text": [
      "Epoch 10: Loss=0.5238, Train Acc=0.7351, Test Acc=0.7266\n"
     ]
    },
    {
     "name": "stderr",
     "output_type": "stream",
     "text": [
      "                                                                                         \r"
     ]
    },
    {
     "name": "stdout",
     "output_type": "stream",
     "text": [
      "Epoch 11: Loss=0.5123, Train Acc=0.7447, Test Acc=0.7181\n"
     ]
    },
    {
     "name": "stderr",
     "output_type": "stream",
     "text": [
      "                                                                                         \r"
     ]
    },
    {
     "name": "stdout",
     "output_type": "stream",
     "text": [
      "Epoch 12: Loss=0.5032, Train Acc=0.7500, Test Acc=0.7206\n"
     ]
    },
    {
     "name": "stderr",
     "output_type": "stream",
     "text": [
      "                                                                                         \r"
     ]
    },
    {
     "name": "stdout",
     "output_type": "stream",
     "text": [
      "Epoch 13: Loss=0.4932, Train Acc=0.7601, Test Acc=0.7313\n"
     ]
    },
    {
     "name": "stderr",
     "output_type": "stream",
     "text": [
      "                                                                                         \r"
     ]
    },
    {
     "name": "stdout",
     "output_type": "stream",
     "text": [
      "Epoch 14: Loss=0.4825, Train Acc=0.7689, Test Acc=0.7270\n"
     ]
    },
    {
     "name": "stderr",
     "output_type": "stream",
     "text": [
      "                                                                                         \r"
     ]
    },
    {
     "name": "stdout",
     "output_type": "stream",
     "text": [
      "Epoch 15: Loss=0.4741, Train Acc=0.7734, Test Acc=0.7095\n",
      "✓ Baseline ViT completed - Best Test Acc: 0.7313\n",
      "\n",
      "==================== TRAINING RoPE ViT ====================\n",
      "Parameters: 3.94M\n"
     ]
    },
    {
     "name": "stderr",
     "output_type": "stream",
     "text": [
      "                                                                                        \r"
     ]
    },
    {
     "name": "stdout",
     "output_type": "stream",
     "text": [
      "Epoch 1: Loss=0.6713, Train Acc=0.5856, Test Acc=0.5929\n"
     ]
    },
    {
     "name": "stderr",
     "output_type": "stream",
     "text": [
      "                                                                                        \r"
     ]
    },
    {
     "name": "stdout",
     "output_type": "stream",
     "text": [
      "Epoch 2: Loss=0.5982, Train Acc=0.6740, Test Acc=0.6929\n"
     ]
    },
    {
     "name": "stderr",
     "output_type": "stream",
     "text": [
      "                                                                                        \r"
     ]
    },
    {
     "name": "stdout",
     "output_type": "stream",
     "text": [
      "Epoch 3: Loss=0.5527, Train Acc=0.7175, Test Acc=0.7300\n"
     ]
    },
    {
     "name": "stderr",
     "output_type": "stream",
     "text": [
      "                                                                                        \r"
     ]
    },
    {
     "name": "stdout",
     "output_type": "stream",
     "text": [
      "Epoch 4: Loss=0.5208, Train Acc=0.7381, Test Acc=0.7420\n"
     ]
    },
    {
     "name": "stderr",
     "output_type": "stream",
     "text": [
      "                                                                                        \r"
     ]
    },
    {
     "name": "stdout",
     "output_type": "stream",
     "text": [
      "Epoch 5: Loss=0.4995, Train Acc=0.7537, Test Acc=0.7591\n"
     ]
    },
    {
     "name": "stderr",
     "output_type": "stream",
     "text": [
      "                                                                                        \r"
     ]
    },
    {
     "name": "stdout",
     "output_type": "stream",
     "text": [
      "Epoch 6: Loss=0.4815, Train Acc=0.7667, Test Acc=0.7522\n"
     ]
    },
    {
     "name": "stderr",
     "output_type": "stream",
     "text": [
      "                                                                                        \r"
     ]
    },
    {
     "name": "stdout",
     "output_type": "stream",
     "text": [
      "Epoch 7: Loss=0.4649, Train Acc=0.7785, Test Acc=0.7493\n"
     ]
    },
    {
     "name": "stderr",
     "output_type": "stream",
     "text": [
      "                                                                                        \r"
     ]
    },
    {
     "name": "stdout",
     "output_type": "stream",
     "text": [
      "Epoch 8: Loss=0.4488, Train Acc=0.7867, Test Acc=0.7484\n"
     ]
    },
    {
     "name": "stderr",
     "output_type": "stream",
     "text": [
      "                                                                                        \r"
     ]
    },
    {
     "name": "stdout",
     "output_type": "stream",
     "text": [
      "Epoch 9: Loss=0.4348, Train Acc=0.8000, Test Acc=0.7706\n"
     ]
    },
    {
     "name": "stderr",
     "output_type": "stream",
     "text": [
      "                                                                                         \r"
     ]
    },
    {
     "name": "stdout",
     "output_type": "stream",
     "text": [
      "Epoch 10: Loss=0.4192, Train Acc=0.8089, Test Acc=0.7629\n"
     ]
    },
    {
     "name": "stderr",
     "output_type": "stream",
     "text": [
      "                                                                                         \r"
     ]
    },
    {
     "name": "stdout",
     "output_type": "stream",
     "text": [
      "Epoch 11: Loss=0.4015, Train Acc=0.8169, Test Acc=0.7651\n"
     ]
    },
    {
     "name": "stderr",
     "output_type": "stream",
     "text": [
      "                                                                                         \r"
     ]
    },
    {
     "name": "stdout",
     "output_type": "stream",
     "text": [
      "Epoch 12: Loss=0.3887, Train Acc=0.8246, Test Acc=0.7633\n"
     ]
    },
    {
     "name": "stderr",
     "output_type": "stream",
     "text": [
      "                                                                                         \r"
     ]
    },
    {
     "name": "stdout",
     "output_type": "stream",
     "text": [
      "Epoch 13: Loss=0.3702, Train Acc=0.8379, Test Acc=0.7437\n"
     ]
    },
    {
     "name": "stderr",
     "output_type": "stream",
     "text": [
      "                                                                                         \r"
     ]
    },
    {
     "name": "stdout",
     "output_type": "stream",
     "text": [
      "Epoch 14: Loss=0.3568, Train Acc=0.8425, Test Acc=0.7552\n"
     ]
    },
    {
     "name": "stderr",
     "output_type": "stream",
     "text": [
      "                                                                                         \r"
     ]
    },
    {
     "name": "stdout",
     "output_type": "stream",
     "text": [
      "Epoch 15: Loss=0.3395, Train Acc=0.8493, Test Acc=0.7561\n",
      "✓ RoPE ViT completed - Best Test Acc: 0.7706\n",
      "\n",
      "==================== TRAINING More Attention Heads ====================\n",
      "Parameters: 3.97M\n"
     ]
    },
    {
     "name": "stderr",
     "output_type": "stream",
     "text": [
      "                                                                                        \r"
     ]
    },
    {
     "name": "stdout",
     "output_type": "stream",
     "text": [
      "Epoch 1: Loss=0.6849, Train Acc=0.5580, Test Acc=0.5835\n"
     ]
    },
    {
     "name": "stderr",
     "output_type": "stream",
     "text": [
      "                                                                                        \r"
     ]
    },
    {
     "name": "stdout",
     "output_type": "stream",
     "text": [
      "Epoch 2: Loss=0.6450, Train Acc=0.6149, Test Acc=0.6109\n"
     ]
    },
    {
     "name": "stderr",
     "output_type": "stream",
     "text": [
      "                                                                                        \r"
     ]
    },
    {
     "name": "stdout",
     "output_type": "stream",
     "text": [
      "Epoch 3: Loss=0.6239, Train Acc=0.6364, Test Acc=0.6382\n"
     ]
    },
    {
     "name": "stderr",
     "output_type": "stream",
     "text": [
      "                                                                                        \r"
     ]
    },
    {
     "name": "stdout",
     "output_type": "stream",
     "text": [
      "Epoch 4: Loss=0.6090, Train Acc=0.6518, Test Acc=0.6523\n"
     ]
    },
    {
     "name": "stderr",
     "output_type": "stream",
     "text": [
      "                                                                                        \r"
     ]
    },
    {
     "name": "stdout",
     "output_type": "stream",
     "text": [
      "Epoch 5: Loss=0.5930, Train Acc=0.6730, Test Acc=0.6771\n"
     ]
    },
    {
     "name": "stderr",
     "output_type": "stream",
     "text": [
      "                                                                                        \r"
     ]
    },
    {
     "name": "stdout",
     "output_type": "stream",
     "text": [
      "Epoch 6: Loss=0.5785, Train Acc=0.6864, Test Acc=0.6959\n"
     ]
    },
    {
     "name": "stderr",
     "output_type": "stream",
     "text": [
      "                                                                                        \r"
     ]
    },
    {
     "name": "stdout",
     "output_type": "stream",
     "text": [
      "Epoch 7: Loss=0.5624, Train Acc=0.7030, Test Acc=0.7035\n"
     ]
    },
    {
     "name": "stderr",
     "output_type": "stream",
     "text": [
      "                                                                                        \r"
     ]
    },
    {
     "name": "stdout",
     "output_type": "stream",
     "text": [
      "Epoch 8: Loss=0.5510, Train Acc=0.7126, Test Acc=0.7044\n"
     ]
    },
    {
     "name": "stderr",
     "output_type": "stream",
     "text": [
      "                                                                                        \r"
     ]
    },
    {
     "name": "stdout",
     "output_type": "stream",
     "text": [
      "Epoch 9: Loss=0.5371, Train Acc=0.7252, Test Acc=0.7142\n"
     ]
    },
    {
     "name": "stderr",
     "output_type": "stream",
     "text": [
      "                                                                                         \r"
     ]
    },
    {
     "name": "stdout",
     "output_type": "stream",
     "text": [
      "Epoch 10: Loss=0.5274, Train Acc=0.7313, Test Acc=0.6852\n"
     ]
    },
    {
     "name": "stderr",
     "output_type": "stream",
     "text": [
      "                                                                                         \r"
     ]
    },
    {
     "name": "stdout",
     "output_type": "stream",
     "text": [
      "Epoch 11: Loss=0.5152, Train Acc=0.7413, Test Acc=0.6963\n"
     ]
    },
    {
     "name": "stderr",
     "output_type": "stream",
     "text": [
      "                                                                                         \r"
     ]
    },
    {
     "name": "stdout",
     "output_type": "stream",
     "text": [
      "Epoch 12: Loss=0.5042, Train Acc=0.7498, Test Acc=0.7078\n"
     ]
    },
    {
     "name": "stderr",
     "output_type": "stream",
     "text": [
      "                                                                                         \r"
     ]
    },
    {
     "name": "stdout",
     "output_type": "stream",
     "text": [
      "Epoch 13: Loss=0.4920, Train Acc=0.7576, Test Acc=0.7270\n"
     ]
    },
    {
     "name": "stderr",
     "output_type": "stream",
     "text": [
      "                                                                                         \r"
     ]
    },
    {
     "name": "stdout",
     "output_type": "stream",
     "text": [
      "Epoch 14: Loss=0.4798, Train Acc=0.7651, Test Acc=0.7249\n"
     ]
    },
    {
     "name": "stderr",
     "output_type": "stream",
     "text": [
      "                                                                                         \r"
     ]
    },
    {
     "name": "stdout",
     "output_type": "stream",
     "text": [
      "Epoch 15: Loss=0.4709, Train Acc=0.7692, Test Acc=0.7202\n",
      "✓ More Attention Heads completed - Best Test Acc: 0.7270\n",
      "\n",
      "==================== TRAINING Higher Embedding Dimension ====================\n",
      "Parameters: 14.23M\n"
     ]
    },
    {
     "name": "stderr",
     "output_type": "stream",
     "text": [
      "                                                                                        \r"
     ]
    },
    {
     "name": "stdout",
     "output_type": "stream",
     "text": [
      "Epoch 1: Loss=0.6972, Train Acc=0.5441, Test Acc=0.5015\n"
     ]
    },
    {
     "name": "stderr",
     "output_type": "stream",
     "text": [
      "                                                                                        \r"
     ]
    },
    {
     "name": "stdout",
     "output_type": "stream",
     "text": [
      "Epoch 2: Loss=0.6718, Train Acc=0.5784, Test Acc=0.5989\n"
     ]
    },
    {
     "name": "stderr",
     "output_type": "stream",
     "text": [
      "                                                                                        \r"
     ]
    },
    {
     "name": "stdout",
     "output_type": "stream",
     "text": [
      "Epoch 3: Loss=0.6436, Train Acc=0.6151, Test Acc=0.6267\n"
     ]
    },
    {
     "name": "stderr",
     "output_type": "stream",
     "text": [
      "                                                                                        \r"
     ]
    },
    {
     "name": "stdout",
     "output_type": "stream",
     "text": [
      "Epoch 4: Loss=0.6226, Train Acc=0.6400, Test Acc=0.6570\n"
     ]
    },
    {
     "name": "stderr",
     "output_type": "stream",
     "text": [
      "                                                                                        \r"
     ]
    },
    {
     "name": "stdout",
     "output_type": "stream",
     "text": [
      "Epoch 5: Loss=0.6043, Train Acc=0.6613, Test Acc=0.6527\n"
     ]
    },
    {
     "name": "stderr",
     "output_type": "stream",
     "text": [
      "                                                                                        \r"
     ]
    },
    {
     "name": "stdout",
     "output_type": "stream",
     "text": [
      "Epoch 6: Loss=0.5936, Train Acc=0.6749, Test Acc=0.6775\n"
     ]
    },
    {
     "name": "stderr",
     "output_type": "stream",
     "text": [
      "                                                                                        \r"
     ]
    },
    {
     "name": "stdout",
     "output_type": "stream",
     "text": [
      "Epoch 7: Loss=0.5845, Train Acc=0.6843, Test Acc=0.6433\n"
     ]
    },
    {
     "name": "stderr",
     "output_type": "stream",
     "text": [
      "                                                                                        \r"
     ]
    },
    {
     "name": "stdout",
     "output_type": "stream",
     "text": [
      "Epoch 8: Loss=0.5750, Train Acc=0.6909, Test Acc=0.6766\n"
     ]
    },
    {
     "name": "stderr",
     "output_type": "stream",
     "text": [
      "                                                                                        \r"
     ]
    },
    {
     "name": "stdout",
     "output_type": "stream",
     "text": [
      "Epoch 9: Loss=0.5615, Train Acc=0.7045, Test Acc=0.6941\n"
     ]
    },
    {
     "name": "stderr",
     "output_type": "stream",
     "text": [
      "                                                                                         \r"
     ]
    },
    {
     "name": "stdout",
     "output_type": "stream",
     "text": [
      "Epoch 10: Loss=0.5496, Train Acc=0.7136, Test Acc=0.6959\n"
     ]
    },
    {
     "name": "stderr",
     "output_type": "stream",
     "text": [
      "                                                                                         \r"
     ]
    },
    {
     "name": "stdout",
     "output_type": "stream",
     "text": [
      "Epoch 11: Loss=0.5423, Train Acc=0.7201, Test Acc=0.7040\n"
     ]
    },
    {
     "name": "stderr",
     "output_type": "stream",
     "text": [
      "                                                                                         \r"
     ]
    },
    {
     "name": "stdout",
     "output_type": "stream",
     "text": [
      "Epoch 12: Loss=0.5350, Train Acc=0.7265, Test Acc=0.7006\n"
     ]
    },
    {
     "name": "stderr",
     "output_type": "stream",
     "text": [
      "                                                                                         \r"
     ]
    },
    {
     "name": "stdout",
     "output_type": "stream",
     "text": [
      "Epoch 13: Loss=0.5272, Train Acc=0.7337, Test Acc=0.7074\n"
     ]
    },
    {
     "name": "stderr",
     "output_type": "stream",
     "text": [
      "                                                                                         \r"
     ]
    },
    {
     "name": "stdout",
     "output_type": "stream",
     "text": [
      "Epoch 14: Loss=0.5183, Train Acc=0.7383, Test Acc=0.7001\n"
     ]
    },
    {
     "name": "stderr",
     "output_type": "stream",
     "text": [
      "                                                                                         \r"
     ]
    },
    {
     "name": "stdout",
     "output_type": "stream",
     "text": [
      "Epoch 15: Loss=0.5081, Train Acc=0.7486, Test Acc=0.7091\n",
      "✓ Higher Embedding Dimension completed - Best Test Acc: 0.7091\n",
      "\n",
      "==================== TRAINING Smaller Patch Size ====================\n",
      "Parameters: 3.46M\n"
     ]
    },
    {
     "name": "stderr",
     "output_type": "stream",
     "text": [
      "                                                                                        \r"
     ]
    },
    {
     "name": "stdout",
     "output_type": "stream",
     "text": [
      "Epoch 1: Loss=0.6813, Train Acc=0.5669, Test Acc=0.5844\n"
     ]
    },
    {
     "name": "stderr",
     "output_type": "stream",
     "text": [
      "                                                                                        \r"
     ]
    },
    {
     "name": "stdout",
     "output_type": "stream",
     "text": [
      "Epoch 2: Loss=0.6437, Train Acc=0.6161, Test Acc=0.6181\n"
     ]
    },
    {
     "name": "stderr",
     "output_type": "stream",
     "text": [
      "                                                                                        \r"
     ]
    },
    {
     "name": "stdout",
     "output_type": "stream",
     "text": [
      "Epoch 3: Loss=0.6172, Train Acc=0.6503, Test Acc=0.6617\n"
     ]
    },
    {
     "name": "stderr",
     "output_type": "stream",
     "text": [
      "                                                                                        \r"
     ]
    },
    {
     "name": "stdout",
     "output_type": "stream",
     "text": [
      "Epoch 4: Loss=0.5947, Train Acc=0.6777, Test Acc=0.6830\n"
     ]
    },
    {
     "name": "stderr",
     "output_type": "stream",
     "text": [
      "                                                                                        \r"
     ]
    },
    {
     "name": "stdout",
     "output_type": "stream",
     "text": [
      "Epoch 5: Loss=0.5746, Train Acc=0.6982, Test Acc=0.6664\n"
     ]
    },
    {
     "name": "stderr",
     "output_type": "stream",
     "text": [
      "                                                                                        \r"
     ]
    },
    {
     "name": "stdout",
     "output_type": "stream",
     "text": [
      "Epoch 6: Loss=0.5695, Train Acc=0.7009, Test Acc=0.6548\n"
     ]
    },
    {
     "name": "stderr",
     "output_type": "stream",
     "text": [
      "                                                                                        \r"
     ]
    },
    {
     "name": "stdout",
     "output_type": "stream",
     "text": [
      "Epoch 7: Loss=0.5554, Train Acc=0.7141, Test Acc=0.6698\n"
     ]
    },
    {
     "name": "stderr",
     "output_type": "stream",
     "text": [
      "                                                                                        \r"
     ]
    },
    {
     "name": "stdout",
     "output_type": "stream",
     "text": [
      "Epoch 8: Loss=0.5386, Train Acc=0.7280, Test Acc=0.6877\n"
     ]
    },
    {
     "name": "stderr",
     "output_type": "stream",
     "text": [
      "                                                                                        \r"
     ]
    },
    {
     "name": "stdout",
     "output_type": "stream",
     "text": [
      "Epoch 9: Loss=0.5231, Train Acc=0.7380, Test Acc=0.7061\n"
     ]
    },
    {
     "name": "stderr",
     "output_type": "stream",
     "text": [
      "                                                                                         \r"
     ]
    },
    {
     "name": "stdout",
     "output_type": "stream",
     "text": [
      "Epoch 10: Loss=0.5115, Train Acc=0.7480, Test Acc=0.7014\n"
     ]
    },
    {
     "name": "stderr",
     "output_type": "stream",
     "text": [
      "                                                                                         \r"
     ]
    },
    {
     "name": "stdout",
     "output_type": "stream",
     "text": [
      "Epoch 11: Loss=0.4959, Train Acc=0.7590, Test Acc=0.7040\n"
     ]
    },
    {
     "name": "stderr",
     "output_type": "stream",
     "text": [
      "                                                                                         \r"
     ]
    },
    {
     "name": "stdout",
     "output_type": "stream",
     "text": [
      "Epoch 12: Loss=0.4830, Train Acc=0.7684, Test Acc=0.7065\n"
     ]
    },
    {
     "name": "stderr",
     "output_type": "stream",
     "text": [
      "                                                                                         \r"
     ]
    },
    {
     "name": "stdout",
     "output_type": "stream",
     "text": [
      "Epoch 13: Loss=0.4748, Train Acc=0.7746, Test Acc=0.7117\n"
     ]
    },
    {
     "name": "stderr",
     "output_type": "stream",
     "text": [
      "                                                                                         \r"
     ]
    },
    {
     "name": "stdout",
     "output_type": "stream",
     "text": [
      "Epoch 14: Loss=0.4631, Train Acc=0.7795, Test Acc=0.7206\n"
     ]
    },
    {
     "name": "stderr",
     "output_type": "stream",
     "text": [
      "                                                                                         \r"
     ]
    },
    {
     "name": "stdout",
     "output_type": "stream",
     "text": [
      "Epoch 15: Loss=0.4519, Train Acc=0.7889, Test Acc=0.6873\n",
      "✓ Smaller Patch Size completed - Best Test Acc: 0.7206\n",
      "\n",
      "==================== TRAINING Lower Embedding Dimension ====================\n",
      "Parameters: 1.20M\n"
     ]
    },
    {
     "name": "stderr",
     "output_type": "stream",
     "text": [
      "                                                                                        \r"
     ]
    },
    {
     "name": "stdout",
     "output_type": "stream",
     "text": [
      "Epoch 1: Loss=0.6817, Train Acc=0.5627, Test Acc=0.5925\n"
     ]
    },
    {
     "name": "stderr",
     "output_type": "stream",
     "text": [
      "                                                                                        \r"
     ]
    },
    {
     "name": "stdout",
     "output_type": "stream",
     "text": [
      "Epoch 2: Loss=0.6498, Train Acc=0.6171, Test Acc=0.6326\n"
     ]
    },
    {
     "name": "stderr",
     "output_type": "stream",
     "text": [
      "                                                                                        \r"
     ]
    },
    {
     "name": "stdout",
     "output_type": "stream",
     "text": [
      "Epoch 3: Loss=0.6254, Train Acc=0.6356, Test Acc=0.6356\n"
     ]
    },
    {
     "name": "stderr",
     "output_type": "stream",
     "text": [
      "                                                                                        \r"
     ]
    },
    {
     "name": "stdout",
     "output_type": "stream",
     "text": [
      "Epoch 4: Loss=0.6091, Train Acc=0.6601, Test Acc=0.6455\n"
     ]
    },
    {
     "name": "stderr",
     "output_type": "stream",
     "text": [
      "                                                                                        \r"
     ]
    },
    {
     "name": "stdout",
     "output_type": "stream",
     "text": [
      "Epoch 5: Loss=0.5913, Train Acc=0.6753, Test Acc=0.6681\n"
     ]
    },
    {
     "name": "stderr",
     "output_type": "stream",
     "text": [
      "                                                                                        \r"
     ]
    },
    {
     "name": "stdout",
     "output_type": "stream",
     "text": [
      "Epoch 6: Loss=0.5774, Train Acc=0.6908, Test Acc=0.6801\n"
     ]
    },
    {
     "name": "stderr",
     "output_type": "stream",
     "text": [
      "                                                                                        \r"
     ]
    },
    {
     "name": "stdout",
     "output_type": "stream",
     "text": [
      "Epoch 7: Loss=0.5617, Train Acc=0.7060, Test Acc=0.6702\n"
     ]
    },
    {
     "name": "stderr",
     "output_type": "stream",
     "text": [
      "                                                                                        \r"
     ]
    },
    {
     "name": "stdout",
     "output_type": "stream",
     "text": [
      "Epoch 8: Loss=0.5524, Train Acc=0.7120, Test Acc=0.6869\n"
     ]
    },
    {
     "name": "stderr",
     "output_type": "stream",
     "text": [
      "                                                                                        \r"
     ]
    },
    {
     "name": "stdout",
     "output_type": "stream",
     "text": [
      "Epoch 9: Loss=0.5446, Train Acc=0.7187, Test Acc=0.6929\n"
     ]
    },
    {
     "name": "stderr",
     "output_type": "stream",
     "text": [
      "                                                                                         \r"
     ]
    },
    {
     "name": "stdout",
     "output_type": "stream",
     "text": [
      "Epoch 10: Loss=0.5336, Train Acc=0.7284, Test Acc=0.7006\n"
     ]
    },
    {
     "name": "stderr",
     "output_type": "stream",
     "text": [
      "                                                                                         \r"
     ]
    },
    {
     "name": "stdout",
     "output_type": "stream",
     "text": [
      "Epoch 11: Loss=0.5242, Train Acc=0.7328, Test Acc=0.7027\n"
     ]
    },
    {
     "name": "stderr",
     "output_type": "stream",
     "text": [
      "                                                                                         \r"
     ]
    },
    {
     "name": "stdout",
     "output_type": "stream",
     "text": [
      "Epoch 12: Loss=0.5136, Train Acc=0.7441, Test Acc=0.6976\n"
     ]
    },
    {
     "name": "stderr",
     "output_type": "stream",
     "text": [
      "                                                                                         \r"
     ]
    },
    {
     "name": "stdout",
     "output_type": "stream",
     "text": [
      "Epoch 13: Loss=0.5066, Train Acc=0.7497, Test Acc=0.6941\n"
     ]
    },
    {
     "name": "stderr",
     "output_type": "stream",
     "text": [
      "                                                                                         \r"
     ]
    },
    {
     "name": "stdout",
     "output_type": "stream",
     "text": [
      "Epoch 14: Loss=0.4992, Train Acc=0.7540, Test Acc=0.7091\n"
     ]
    },
    {
     "name": "stderr",
     "output_type": "stream",
     "text": [
      "                                                                                         \r"
     ]
    },
    {
     "name": "stdout",
     "output_type": "stream",
     "text": [
      "Epoch 15: Loss=0.4904, Train Acc=0.7579, Test Acc=0.7194\n",
      "✓ Lower Embedding Dimension completed - Best Test Acc: 0.7194\n",
      "\n",
      "================================================================================\n",
      "TRAINING COMPLETED FOR ALL EXPERIMENTS\n",
      "================================================================================\n"
     ]
    }
   ],
   "source": [
    "# Comparative Training Loop for All Experiments\n",
    "import torch.optim as optim\n",
    "from tqdm import tqdm\n",
    "import numpy as np\n",
    "import pandas as pd\n",
    "import matplotlib.pyplot as plt\n",
    "from collections import defaultdict\n",
    "\n",
    "device = torch.device(\"cuda\" if torch.cuda.is_available() else \"cpu\")\n",
    "print(f\"Training on device: {device}\")\n",
    "\n",
    "# Training hyperparameters\n",
    "num_epochs = 15  # Reduced for faster comparison\n",
    "lr = 1e-4\n",
    "batch_size = 8\n",
    "\n",
    "# Results storage\n",
    "results = defaultdict(lambda: defaultdict(list))\n",
    "final_results = []\n",
    "\n",
    "# Train each model\n",
    "for exp_name, model_info in models.items():\n",
    "    print(f\"\\n{'='*20} TRAINING {model_info['name']} {'='*20}\")\n",
    "    print(f\"Parameters: {model_info['params'] / 1e6:.2f}M\")\n",
    "    \n",
    "    model = model_info['model'].to(device)\n",
    "    criterion = nn.CrossEntropyLoss()\n",
    "    optimizer = optim.Adam(model.parameters(), lr=lr)\n",
    "    \n",
    "    # Training metrics\n",
    "    train_losses = []\n",
    "    train_accuracies = []\n",
    "    test_accuracies = []\n",
    "    \n",
    "    for epoch in range(num_epochs):\n",
    "        # Training phase\n",
    "        model.train()\n",
    "        running_loss = 0.0\n",
    "        correct_train = 0\n",
    "        total_train = 0\n",
    "        \n",
    "        batch_progress = tqdm(train_loader, desc=f\"Epoch {epoch+1}/{num_epochs}\", leave=False)\n",
    "        \n",
    "        for batch in batch_progress:\n",
    "            images = batch['image'].to(device)\n",
    "            labels = batch['labels'].to(device)\n",
    "\n",
    "            optimizer.zero_grad()\n",
    "            outputs = model(images)\n",
    "            loss = criterion(outputs, labels)\n",
    "            loss.backward()\n",
    "            optimizer.step()\n",
    "\n",
    "            running_loss += loss.item()\n",
    "            _, preds = torch.max(outputs, 1)\n",
    "            correct_train += (preds == labels).sum().item()\n",
    "            total_train += labels.size(0)\n",
    "            \n",
    "            batch_progress.set_postfix({\n",
    "                'loss': f'{loss.item():.4f}',\n",
    "                'acc': f'{100.*correct_train/total_train:.2f}%'\n",
    "            })\n",
    "\n",
    "        # Calculate epoch metrics\n",
    "        epoch_loss = running_loss / len(train_loader)\n",
    "        epoch_train_acc = correct_train / total_train\n",
    "        train_losses.append(epoch_loss)\n",
    "        train_accuracies.append(epoch_train_acc)\n",
    "\n",
    "        # Evaluation phase\n",
    "        model.eval()\n",
    "        correct_test = 0\n",
    "        total_test = 0\n",
    "        with torch.no_grad():\n",
    "            for batch in test_loader:\n",
    "                images = batch['image'].to(device)\n",
    "                labels = batch['labels'].to(device)\n",
    "                outputs = model(images)\n",
    "                _, preds = torch.max(outputs, 1)\n",
    "                correct_test += (preds == labels).sum().item()\n",
    "                total_test += labels.size(0)\n",
    "        \n",
    "        test_acc = correct_test / total_test\n",
    "        test_accuracies.append(test_acc)\n",
    "        \n",
    "        print(f\"Epoch {epoch+1}: Loss={epoch_loss:.4f}, Train Acc={epoch_train_acc:.4f}, Test Acc={test_acc:.4f}\")\n",
    "    \n",
    "    # Store results\n",
    "    results[exp_name]['train_losses'] = train_losses\n",
    "    results[exp_name]['train_accuracies'] = train_accuracies\n",
    "    results[exp_name]['test_accuracies'] = test_accuracies\n",
    "    results[exp_name]['final_test_acc'] = test_accuracies[-1]\n",
    "    results[exp_name]['best_test_acc'] = max(test_accuracies)\n",
    "    results[exp_name]['params'] = model_info['params']\n",
    "    results[exp_name]['config'] = model_info['config']\n",
    "    \n",
    "    final_results.append({\n",
    "        'Experiment': model_info['name'],\n",
    "        'Parameters (M)': model_info['params'] / 1e6,\n",
    "        'Final Test Acc': test_accuracies[-1],\n",
    "        'Best Test Acc': max(test_accuracies),\n",
    "        'Embed Dim': model_info['config']['embed_dim'],\n",
    "        'Num Heads': model_info['config']['num_heads'],\n",
    "        'Patch Size': model_info['config']['patch_size'],\n",
    "        'Use RoPE': model_info['config'].get('use_rope', False)\n",
    "    })\n",
    "    \n",
    "    print(f\"✓ {model_info['name']} completed - Best Test Acc: {max(test_accuracies):.4f}\")\n",
    "\n",
    "print(\"\\n\" + \"=\"*80)\n",
    "print(\"TRAINING COMPLETED FOR ALL EXPERIMENTS\")\n",
    "print(\"=\"*80)\n"
   ]
  },
  {
   "cell_type": "code",
   "execution_count": 9,
   "id": "60d4625d",
   "metadata": {
    "execution": {
     "iopub.execute_input": "2025-05-25T17:29:10.057987Z",
     "iopub.status.busy": "2025-05-25T17:29:10.057280Z",
     "iopub.status.idle": "2025-05-25T17:29:11.128628Z",
     "shell.execute_reply": "2025-05-25T17:29:11.127840Z"
    },
    "papermill": {
     "duration": 15.1962,
     "end_time": "2025-05-25T17:29:11.135872",
     "exception": false,
     "start_time": "2025-05-25T17:28:55.939672",
     "status": "completed"
    },
    "tags": []
   },
   "outputs": [
    {
     "name": "stdout",
     "output_type": "stream",
     "text": [
      "\n",
      "================================================================================\n",
      "EXPERIMENTAL RESULTS SUMMARY\n",
      "================================================================================\n",
      "                Experiment  Parameters (M)  Final Test Acc  Best Test Acc  Embed Dim  Num Heads  Patch Size  Use RoPE\n",
      "                  RoPE ViT        3.943938        0.756087       0.770611        256          4          32      True\n",
      "              Baseline ViT        3.969794        0.709526       0.731311        256          4          32     False\n",
      "      More Attention Heads        3.969794        0.720205       0.727040        256          8          32     False\n",
      "        Smaller Patch Size        3.456770        0.687313       0.720632        256          4          16     False\n",
      " Lower Embedding Dimension        1.198466        0.719351       0.719351        128          4          32     False\n",
      "Higher Embedding Dimension       14.231042        0.709099       0.709099        512          8          32     False\n"
     ]
    },
    {
     "data": {
      "image/png": "[encoded data removed]",
      "text/plain": [
       "<Figure size 1500x1200 with 4 Axes>"
      ]
     },
     "metadata": {},
     "output_type": "display_data"
    },
    {
     "name": "stdout",
     "output_type": "stream",
     "text": [
      "\n",
      "================================================================================\n",
      "KEY INSIGHTS FROM EXPERIMENTS\n",
      "================================================================================\n",
      "\n",
      "Baseline ViT:\n",
      "  Parameters: 3.97M\n",
      "  Best Test Accuracy: 0.7313\n",
      "  Final Test Accuracy: 0.7095\n",
      "  Convergence Speed: 3 epochs to reach 90% of best performance\n",
      "\n",
      "RoPE ViT:\n",
      "  Parameters: 3.94M\n",
      "  Best Test Accuracy: 0.7706\n",
      "  Final Test Accuracy: 0.7561\n",
      "  Convergence Speed: 3 epochs to reach 90% of best performance\n",
      "\n",
      "More Attention Heads:\n",
      "  Parameters: 3.97M\n",
      "  Best Test Accuracy: 0.7270\n",
      "  Final Test Accuracy: 0.7202\n",
      "  Convergence Speed: 5 epochs to reach 90% of best performance\n",
      "\n",
      "Higher Embedding Dimension:\n",
      "  Parameters: 14.23M\n",
      "  Best Test Accuracy: 0.7091\n",
      "  Final Test Accuracy: 0.7091\n",
      "  Convergence Speed: 4 epochs to reach 90% of best performance\n",
      "\n",
      "Smaller Patch Size:\n",
      "  Parameters: 3.46M\n",
      "  Best Test Accuracy: 0.7206\n",
      "  Final Test Accuracy: 0.6873\n",
      "  Convergence Speed: 3 epochs to reach 90% of best performance\n",
      "\n",
      "Lower Embedding Dimension:\n",
      "  Parameters: 1.20M\n",
      "  Best Test Accuracy: 0.7194\n",
      "  Final Test Accuracy: 0.7194\n",
      "  Convergence Speed: 5 epochs to reach 90% of best performance\n"
     ]
    }
   ],
   "source": [
    "# Results Analysis and Visualization\n",
    "\n",
    "# Create summary table\n",
    "results_df = pd.DataFrame(final_results)\n",
    "results_df = results_df.sort_values('Best Test Acc', ascending=False)\n",
    "\n",
    "print(\"\\n\" + \"=\"*80)\n",
    "print(\"EXPERIMENTAL RESULTS SUMMARY\")\n",
    "print(\"=\"*80)\n",
    "print(results_df.to_string(index=False))\n",
    "\n",
    "# Plot training curves\n",
    "fig, axes = plt.subplots(2, 2, figsize=(15, 12))\n",
    "fig.suptitle('Vision Transformer Experiments Comparison', fontsize=16, fontweight='bold')\n",
    "\n",
    "# Plot 1: Test Accuracy Curves\n",
    "ax1 = axes[0, 0]\n",
    "for exp_name, exp_results in results.items():\n",
    "    ax1.plot(exp_results['test_accuracies'], label=models[exp_name]['name'], linewidth=2)\n",
    "ax1.set_title('Test Accuracy Over Epochs')\n",
    "ax1.set_xlabel('Epoch')\n",
    "ax1.set_ylabel('Test Accuracy')\n",
    "ax1.legend(bbox_to_anchor=(1.05, 1), loc='upper left')\n",
    "ax1.grid(True, alpha=0.3)\n",
    "\n",
    "# Plot 2: Training Loss Curves\n",
    "ax2 = axes[0, 1]\n",
    "for exp_name, exp_results in results.items():\n",
    "    ax2.plot(exp_results['train_losses'], label=models[exp_name]['name'], linewidth=2)\n",
    "ax2.set_title('Training Loss Over Epochs')\n",
    "ax2.set_xlabel('Epoch')\n",
    "ax2.set_ylabel('Training Loss')\n",
    "ax2.legend(bbox_to_anchor=(1.05, 1), loc='upper left')\n",
    "ax2.grid(True, alpha=0.3)\n",
    "\n",
    "# Plot 3: Parameters vs Performance\n",
    "ax3 = axes[1, 0]\n",
    "params = [results[exp]['params'] / 1e6 for exp in results.keys()]\n",
    "best_accs = [results[exp]['best_test_acc'] for exp in results.keys()]\n",
    "exp_names = [models[exp]['name'] for exp in results.keys()]\n",
    "\n",
    "scatter = ax3.scatter(params, best_accs, s=100, alpha=0.7, c=range(len(params)), cmap='viridis')\n",
    "for i, name in enumerate(exp_names):\n",
    "    ax3.annotate(name, (params[i], best_accs[i]), xytext=(5, 5), \n",
    "                textcoords='offset points', fontsize=8, alpha=0.8)\n",
    "ax3.set_title('Model Size vs Best Performance')\n",
    "ax3.set_xlabel('Parameters (Millions)')\n",
    "ax3.set_ylabel('Best Test Accuracy')\n",
    "ax3.grid(True, alpha=0.3)\n",
    "\n",
    "# Plot 4: Final Performance Comparison\n",
    "ax4 = axes[1, 1]\n",
    "final_accs = [results[exp]['final_test_acc'] for exp in results.keys()]\n",
    "colors = plt.cm.viridis(np.linspace(0, 1, len(exp_names)))\n",
    "bars = ax4.bar(range(len(exp_names)), final_accs, color=colors, alpha=0.7)\n",
    "ax4.set_title('Final Test Accuracy Comparison')\n",
    "ax4.set_xlabel('Experiments')\n",
    "ax4.set_ylabel('Final Test Accuracy')\n",
    "ax4.set_xticks(range(len(exp_names)))\n",
    "ax4.set_xticklabels([name.replace(' ', '\\n') for name in exp_names], rotation=45, ha='right')\n",
    "ax4.grid(True, alpha=0.3, axis='y')\n",
    "\n",
    "# Add value labels on bars\n",
    "for bar, acc in zip(bars, final_accs):\n",
    "    height = bar.get_height()\n",
    "    ax4.text(bar.get_x() + bar.get_width()/2., height + 0.005,\n",
    "             f'{acc:.3f}', ha='center', va='bottom', fontsize=9)\n",
    "\n",
    "plt.tight_layout()\n",
    "plt.show()\n",
    "\n",
    "print(\"\\n\" + \"=\"*80)\n",
    "print(\"KEY INSIGHTS FROM EXPERIMENTS\")\n",
    "print(\"=\"*80)\n",
    "for exp_name, exp_results in results.items():\n",
    "    model_info = models[exp_name]\n",
    "    print(f\"\\n{model_info['name']}:\")\n",
    "    print(f\"  Parameters: {exp_results['params'] / 1e6:.2f}M\")\n",
    "    print(f\"  Best Test Accuracy: {exp_results['best_test_acc']:.4f}\")\n",
    "    print(f\"  Final Test Accuracy: {exp_results['final_test_acc']:.4f}\")\n",
    "    \n",
    "    # Calculate convergence speed (epochs to reach 90% of best performance)\n",
    "    target_acc = exp_results['best_test_acc'] * 0.9\n",
    "    convergence_epoch = next((i for i, acc in enumerate(exp_results['test_accuracies']) if acc >= target_acc), len(exp_results['test_accuracies']))\n",
    "    print(f\"  Convergence Speed: {convergence_epoch + 1} epochs to reach 90% of best performance\")"
   ]
  },
  {
   "cell_type": "code",
   "execution_count": 10,
   "id": "752b7f2c",
   "metadata": {
    "execution": {
     "iopub.execute_input": "2025-05-25T17:29:39.216278Z",
     "iopub.status.busy": "2025-05-25T17:29:39.215806Z",
     "iopub.status.idle": "2025-05-25T17:29:39.227235Z",
     "shell.execute_reply": "2025-05-25T17:29:39.226393Z"
    },
    "papermill": {
     "duration": 14.250761,
     "end_time": "2025-05-25T17:29:39.228441",
     "exception": false,
     "start_time": "2025-05-25T17:29:24.977680",
     "status": "completed"
    },
    "tags": []
   },
   "outputs": [
    {
     "name": "stdout",
     "output_type": "stream",
     "text": [
      "\n",
      "================================================================================\n",
      "DETAILED EXPERIMENTAL ANALYSIS\n",
      "================================================================================\n",
      "\n",
      "BEST PERFORMING MODEL: RoPE ViT\n",
      "Best Test Accuracy: 0.7706\n",
      "Configuration: {'img_size': 320, 'patch_size': 32, 'num_classes': 2, 'depth': 4, 'embed_dim': 256, 'num_heads': 4, 'use_rope': True}\n",
      "\n",
      "\n",
      "PARAMETER EFFICIENCY ANALYSIS:\n",
      "----------------------------------------\n",
      "Rank | Model | Efficiency (Acc/M_params) | Best Accuracy\n",
      "------------------------------------------------------------\n",
      " 1   | Lower Embedding Dimension |   0.6002 |   0.7194\n",
      " 2   | Smaller Patch Size   |   0.2085 |   0.7206\n",
      " 3   | RoPE ViT             |   0.1954 |   0.7706\n",
      " 4   | Baseline ViT         |   0.1842 |   0.7313\n",
      " 5   | More Attention Heads |   0.1831 |   0.7270\n",
      " 6   | Higher Embedding Dimension |   0.0498 |   0.7091\n",
      "\n",
      "\n",
      "ARCHITECTURAL INSIGHTS:\n",
      "----------------------------------------\n",
      "\n",
      "1. EMBEDDING DIMENSION EFFECT:\n",
      "   128D: 0.7194\n",
      "   256D (Baseline): 0.7313\n",
      "   512D: 0.7091\n",
      "   128D vs 256D: +1.66%\n",
      "   256D vs 512D: -3.04%\n",
      "\n",
      "2. RoPE POSITIONAL ENCODING EFFECT:\n",
      "   Standard: 0.7313\n",
      "   RoPE: 0.7706\n",
      "   RoPE improvement: +5.37%\n",
      "\n",
      "3. ATTENTION HEADS EFFECT:\n",
      "   4 heads (Baseline): 0.7313\n",
      "   8 heads: 0.7270\n",
      "   More heads improvement: -0.58%\n",
      "\n",
      "4. PATCH SIZE EFFECT:\n",
      "   32x32 patches (Baseline): 0.7313\n",
      "   16x16 patches: 0.7206\n",
      "   Smaller patches improvement: -1.46%\n",
      "\n",
      "\n",
      "RECOMMENDATIONS:\n",
      "----------------------------------------\n",
      "Based on the experimental results:\n",
      "1. Best overall model: RoPE ViT\n",
      "2. Most parameter-efficient: Lower Embedding Dimension\n",
      "3. For cats vs dogs classification, consider the trade-off between\n",
      "   model complexity and performance improvement.\n",
      "\n",
      "================================================================================\n",
      "EXPERIMENT COMPLETED SUCCESSFULLY\n",
      "================================================================================\n"
     ]
    }
   ],
   "source": [
    "# Detailed Analysis and Conclusions\n",
    "\n",
    "print(\"\\n\" + \"=\"*80)\n",
    "print(\"DETAILED EXPERIMENTAL ANALYSIS\")\n",
    "print(\"=\"*80)\n",
    "\n",
    "# Find best performing model\n",
    "best_exp = max(results.keys(), key=lambda x: results[x]['best_test_acc'])\n",
    "best_model = models[best_exp]\n",
    "print(f\"\\nBEST PERFORMING MODEL: {best_model['name']}\")\n",
    "print(f\"Best Test Accuracy: {results[best_exp]['best_test_acc']:.4f}\")\n",
    "print(f\"Configuration: {best_model['config']}\")\n",
    "\n",
    "# Parameter efficiency analysis\n",
    "print(\"\\n\\nPARAMETER EFFICIENCY ANALYSIS:\")\n",
    "print(\"-\" * 40)\n",
    "efficiency_scores = []\n",
    "for exp_name, exp_results in results.items():\n",
    "    efficiency = exp_results['best_test_acc'] / (exp_results['params'] / 1e6)\n",
    "    efficiency_scores.append((models[exp_name]['name'], efficiency, exp_results['best_test_acc']))\n",
    "    \n",
    "efficiency_scores.sort(key=lambda x: x[1], reverse=True)\n",
    "print(\"Rank | Model | Efficiency (Acc/M_params) | Best Accuracy\")\n",
    "print(\"-\" * 60)\n",
    "for i, (name, eff, acc) in enumerate(efficiency_scores, 1):\n",
    "    print(f\"{i:2d}   | {name:20s} | {eff:8.4f} | {acc:8.4f}\")\n",
    "\n",
    "# Architecture insights\n",
    "print(\"\\n\\nARCHITECTURAL INSIGHTS:\")\n",
    "print(\"-\" * 40)\n",
    "\n",
    "# Compare embedding dimensions\n",
    "baseline_acc = results['baseline']['best_test_acc']\n",
    "higher_embed_acc = results['higher_embed_dim']['best_test_acc']\n",
    "lower_embed_acc = results['lower_embed_dim']['best_test_acc']\n",
    "print(f\"\\n1. EMBEDDING DIMENSION EFFECT:\")\n",
    "print(f\"   128D: {lower_embed_acc:.4f}\")\n",
    "print(f\"   256D (Baseline): {baseline_acc:.4f}\")\n",
    "print(f\"   512D: {higher_embed_acc:.4f}\")\n",
    "print(f\"   128D vs 256D: {((baseline_acc - lower_embed_acc) / lower_embed_acc * 100):+.2f}%\")\n",
    "print(f\"   256D vs 512D: {((higher_embed_acc - baseline_acc) / baseline_acc * 100):+.2f}%\")\n",
    "\n",
    "# Compare RoPE effect\n",
    "rope_acc = results['rope_comparison']['best_test_acc']\n",
    "print(f\"\\n2. RoPE POSITIONAL ENCODING EFFECT:\")\n",
    "print(f\"   Standard: {baseline_acc:.4f}\")\n",
    "print(f\"   RoPE: {rope_acc:.4f}\")\n",
    "print(f\"   RoPE improvement: {((rope_acc - baseline_acc) / baseline_acc * 100):+.2f}%\")\n",
    "\n",
    "# Compare attention heads\n",
    "more_heads_acc = results['more_heads']['best_test_acc']\n",
    "print(f\"\\n3. ATTENTION HEADS EFFECT:\")\n",
    "print(f\"   4 heads (Baseline): {baseline_acc:.4f}\")\n",
    "print(f\"   8 heads: {more_heads_acc:.4f}\")\n",
    "print(f\"   More heads improvement: {((more_heads_acc - baseline_acc) / baseline_acc * 100):+.2f}%\")\n",
    "\n",
    "# Compare patch size effect\n",
    "smaller_patches_acc = results['smaller_patches']['best_test_acc']\n",
    "print(f\"\\n4. PATCH SIZE EFFECT:\")\n",
    "print(f\"   32x32 patches (Baseline): {baseline_acc:.4f}\")\n",
    "print(f\"   16x16 patches: {smaller_patches_acc:.4f}\")\n",
    "print(f\"   Smaller patches improvement: {((smaller_patches_acc - baseline_acc) / baseline_acc * 100):+.2f}%\")\n",
    "\n",
    "print(\"\\n\\nRECOMMENDATIONS:\")\n",
    "print(\"-\" * 40)\n",
    "print(\"Based on the experimental results:\")\n",
    "print(f\"1. Best overall model: {best_model['name']}\")\n",
    "print(f\"2. Most parameter-efficient: {efficiency_scores[0][0]}\")\n",
    "print(\"3. For cats vs dogs classification, consider the trade-off between\")\n",
    "print(\"   model complexity and performance improvement.\")\n",
    "\n",
    "print(\"\\n\" + \"=\"*80)\n",
    "print(\"EXPERIMENT COMPLETED SUCCESSFULLY\")\n",
    "print(\"=\"*80)"
   ]
  },
  {
   "cell_type": "markdown",
   "id": "97da0835",
   "metadata": {
    "papermill": {
     "duration": null,
     "end_time": null,
     "exception": null,
     "start_time": null,
     "status": "pending"
    },
    "tags": []
   },
   "source": [
    "# Vision Transformer Experimental Study Results\n",
    "\n",
    "This notebook presents a comprehensive experimental study comparing different Vision Transformer (ViT) architectures on the cats vs dogs classification task, focusing on attention heads, embedding dimensions, and patch sizes with one RoPE comparison.\n",
    "\n",
    "## Experimental Design\n",
    "\n",
    "We conducted **6 comparative experiments** to understand how key architectural components affect ViT performance:\n",
    "\n",
    "### 1. **Baseline ViT**\n",
    "- **Config**: 4 layers, 256 embed_dim, 4 heads, 32×32 patches, standard positional encoding\n",
    "- **Purpose**: Establish standard baseline configuration\n",
    "\n",
    "### 2. **RoPE ViT** \n",
    "- **Config**: 4 layers, 256 embed_dim, 4 heads, 32×32 patches, RoPE positional encoding\n",
    "- **Purpose**: Single comparison to evaluate RoPE effectiveness\n",
    "\n",
    "### 3. **More Attention Heads**\n",
    "- **Config**: 4 layers, 256 embed_dim, 8 heads, 32×32 patches, standard positional encoding\n",
    "- **Purpose**: Study impact of increased attention heads\n",
    "\n",
    "### 4. **Higher Embedding Dimension**\n",
    "- **Config**: 4 layers, 512 embed_dim, 8 heads, 32×32 patches, standard positional encoding\n",
    "- **Purpose**: Evaluate larger embedding dimension for richer representations\n",
    "\n",
    "### 5. **Smaller Patch Size**\n",
    "- **Config**: 4 layers, 256 embed_dim, 4 heads, 16×16 patches, standard positional encoding\n",
    "- **Purpose**: Test finer-grained attention with smaller patches\n",
    "\n",
    "### 6. **Lower Embedding Dimension**\n",
    "- **Config**: 4 layers, 128 embed_dim, 4 heads, 32×32 patches, standard positional encoding\n",
    "- **Purpose**: Study efficiency with smaller embedding dimension\n",
    "\n",
    "*All experiments use identical training procedures (15 epochs, Adam optimizer, 1e-4 learning rate) to ensure fair comparison.*"
   ]
  }
 ],
 "metadata": {
  "kaggle": {
   "accelerator": "gpu",
   "dataSources": [],
   "dockerImageVersionId": 31041,
   "isGpuEnabled": true,
   "isInternetEnabled": true,
   "language": "python",
   "sourceType": "notebook"
  },
  "kernelspec": {
   "display_name": "Python 3",
   "language": "python",
   "name": "python3"
  },
  "language_info": {
   "codemirror_mode": {
    "name": "ipython",
    "version": 3
   },
   "file_extension": ".py",
   "mimetype": "text/x-python",
   "name": "python",
   "nbconvert_exporter": "python",
   "pygments_lexer": "ipython3",
   "version": "3.11.11"
  },
  "papermill": {
   "default_parameters": {},
   "duration": 12318.406825,
   "end_time": "2025-05-25T17:30:25.477637",
   "environment_variables": {},
   "exception": true,
   "input_path": "__notebook__.ipynb",
   "output_path": "__notebook__.ipynb",
   "parameters": {},
   "start_time": "2025-05-25T14:05:07.070812",
   "version": "2.6.0"
  },
  "widgets": {
   "application/vnd.jupyter.widget-state+json": {
    "state": {
     "0105edd5757f4613b18c72179e7e6401": {
      "model_module": "@jupyter-widgets/controls",
      "model_module_version": "2.0.0",
      "model_name": "ProgressStyleModel",
      "state": {
       "_model_module": "@jupyter-widgets/controls",
       "_model_module_version": "2.0.0",
       "_model_name": "ProgressStyleModel",
       "_view_count": null,
       "_view_module": "@jupyter-widgets/base",
       "_view_module_version": "2.0.0",
       "_view_name": "StyleView",
       "bar_color": null,
       "description_width": ""
      }
     },
     "0482a1b443494845882298b2f4c2682b": {
      "model_module": "@jupyter-widgets/controls",
      "model_module_version": "2.0.0",
      "model_name": "HTMLStyleModel",
      "state": {
       "_model_module": "@jupyter-widgets/controls",
       "_model_module_version": "2.0.0",
       "_model_name": "HTMLStyleModel",
       "_view_count": null,
       "_view_module": "@jupyter-widgets/base",
       "_view_module_version": "2.0.0",
       "_view_name": "StyleView",
       "background": null,
       "description_width": "",
       "font_size": null,
       "text_color": null
      }
     },
     "06345a0df91540239a300f535d29c300": {
      "model_module": "@jupyter-widgets/controls",
      "model_module_version": "2.0.0",
      "model_name": "ProgressStyleModel",
      "state": {
       "_model_module": "@jupyter-widgets/controls",
       "_model_module_version": "2.0.0",
       "_model_name": "ProgressStyleModel",
       "_view_count": null,
       "_view_module": "@jupyter-widgets/base",
       "_view_module_version": "2.0.0",
       "_view_name": "StyleView",
       "bar_color": null,
       "description_width": ""
      }
     },
     "072fb379a1184dae815ac0754f57721b": {
      "model_module": "@jupyter-widgets/controls",
      "model_module_version": "2.0.0",
      "model_name": "ProgressStyleModel",
      "state": {
       "_model_module": "@jupyter-widgets/controls",
       "_model_module_version": "2.0.0",
       "_model_name": "ProgressStyleModel",
       "_view_count": null,
       "_view_module": "@jupyter-widgets/base",
       "_view_module_version": "2.0.0",
       "_view_name": "StyleView",
       "bar_color": null,
       "description_width": ""
      }
     },
     "082175831430497488deb62f6417d7f8": {
      "model_module": "@jupyter-widgets/base",
      "model_module_version": "2.0.0",
      "model_name": "LayoutModel",
      "state": {
       "_model_module": "@jupyter-widgets/base",
       "_model_module_version": "2.0.0",
       "_model_name": "LayoutModel",
       "_view_count": null,
       "_view_module": "@jupyter-widgets/base",
       "_view_module_version": "2.0.0",
       "_view_name": "LayoutView",
       "align_content": null,
       "align_items": null,
       "align_self": null,
       "border_bottom": null,
       "border_left": null,
       "border_right": null,
       "border_top": null,
       "bottom": null,
       "display": null,
       "flex": null,
       "flex_flow": null,
       "grid_area": null,
       "grid_auto_columns": null,
       "grid_auto_flow": null,
       "grid_auto_rows": null,
       "grid_column": null,
       "grid_gap": null,
       "grid_row": null,
       "grid_template_areas": null,
       "grid_template_columns": null,
       "grid_template_rows": null,
       "height": null,
       "justify_content": null,
       "justify_items": null,
       "left": null,
       "margin": null,
       "max_height": null,
       "max_width": null,
       "min_height": null,
       "min_width": null,
       "object_fit": null,
       "object_position": null,
       "order": null,
       "overflow": null,
       "padding": null,
       "right": null,
       "top": null,
       "visibility": null,
       "width": null
      }
     },
     "09a86c1b3995449fb9b7c5e2435d0b80": {
      "model_module": "@jupyter-widgets/base",
      "model_module_version": "2.0.0",
      "model_name": "LayoutModel",
      "state": {
       "_model_module": "@jupyter-widgets/base",
       "_model_module_version": "2.0.0",
       "_model_name": "LayoutModel",
       "_view_count": null,
       "_view_module": "@jupyter-widgets/base",
       "_view_module_version": "2.0.0",
       "_view_name": "LayoutView",
       "align_content": null,
       "align_items": null,
       "align_self": null,
       "border_bottom": null,
       "border_left": null,
       "border_right": null,
       "border_top": null,
       "bottom": null,
       "display": null,
       "flex": null,
       "flex_flow": null,
       "grid_area": null,
       "grid_auto_columns": null,
       "grid_auto_flow": null,
       "grid_auto_rows": null,
       "grid_column": null,
       "grid_gap": null,
       "grid_row": null,
       "grid_template_areas": null,
       "grid_template_columns": null,
       "grid_template_rows": null,
       "height": null,
       "justify_content": null,
       "justify_items": null,
       "left": null,
       "margin": null,
       "max_height": null,
       "max_width": null,
       "min_height": null,
       "min_width": null,
       "object_fit": null,
       "object_position": null,
       "order": null,
       "overflow": null,
       "padding": null,
       "right": null,
       "top": null,
       "visibility": null,
       "width": null
      }
     },
     "0bf434cf4c1049d684d620ca1da0cb4c": {
      "model_module": "@jupyter-widgets/controls",
      "model_module_version": "2.0.0",
      "model_name": "HTMLModel",
      "state": {
       "_dom_classes": [],
       "_model_module": "@jupyter-widgets/controls",
       "_model_module_version": "2.0.0",
       "_model_name": "HTMLModel",
       "_view_count": null,
       "_view_module": "@jupyter-widgets/controls",
       "_view_module_version": "2.0.0",
       "_view_name": "HTMLView",
       "description": "",
       "description_allow_html": false,
       "layout": "IPY_MODEL_fe5e7fe8c3af4b85a6ae38de65996dea",
       "placeholder": "​",
       "style": "IPY_MODEL_b542cbaa780b444da2279989d2d82672",
       "tabbable": null,
       "tooltip": null,
       "value": " 23410/23410 [00:30&lt;00:00, 761.72 examples/s]"
      }
     },
     "0ebef2dc96824a5e97097c83b5d57e2f": {
      "model_module": "@jupyter-widgets/base",
      "model_module_version": "2.0.0",
      "model_name": "LayoutModel",
      "state": {
       "_model_module": "@jupyter-widgets/base",
       "_model_module_version": "2.0.0",
       "_model_name": "LayoutModel",
       "_view_count": null,
       "_view_module": "@jupyter-widgets/base",
       "_view_module_version": "2.0.0",
       "_view_name": "LayoutView",
       "align_content": null,
       "align_items": null,
       "align_self": null,
       "border_bottom": null,
       "border_left": null,
       "border_right": null,
       "border_top": null,
       "bottom": null,
       "display": null,
       "flex": null,
       "flex_flow": null,
       "grid_area": null,
       "grid_auto_columns": null,
       "grid_auto_flow": null,
       "grid_auto_rows": null,
       "grid_column": null,
       "grid_gap": null,
       "grid_row": null,
       "grid_template_areas": null,
       "grid_template_columns": null,
       "grid_template_rows": null,
       "height": null,
       "justify_content": null,
       "justify_items": null,
       "left": null,
       "margin": null,
       "max_height": null,
       "max_width": null,
       "min_height": null,
       "min_width": null,
       "object_fit": null,
       "object_position": null,
       "order": null,
       "overflow": null,
       "padding": null,
       "right": null,
       "top": null,
       "visibility": null,
       "width": null
      }
     },
     "0ef4cf39bd5f4f4494a772bb34483a27": {
      "model_module": "@jupyter-widgets/controls",
      "model_module_version": "2.0.0",
      "model_name": "HTMLModel",
      "state": {
       "_dom_classes": [],
       "_model_module": "@jupyter-widgets/controls",
       "_model_module_version": "2.0.0",
       "_model_name": "HTMLModel",
       "_view_count": null,
       "_view_module": "@jupyter-widgets/controls",
       "_view_module_version": "2.0.0",
       "_view_name": "HTMLView",
       "description": "",
       "description_allow_html": false,
       "layout": "IPY_MODEL_f1203529054641f2adafa0fa1abddf12",
       "placeholder": "​",
       "style": "IPY_MODEL_a5f39ba7ac584eba964a2e8868ca5197",
       "tabbable": null,
       "tooltip": null,
       "value": "Filter: 100%"
      }
     },
     "14aaf45b516040a08d42c22002da5c09": {
      "model_module": "@jupyter-widgets/controls",
      "model_module_version": "2.0.0",
      "model_name": "HTMLStyleModel",
      "state": {
       "_model_module": "@jupyter-widgets/controls",
       "_model_module_version": "2.0.0",
       "_model_name": "HTMLStyleModel",
       "_view_count": null,
       "_view_module": "@jupyter-widgets/base",
       "_view_module_version": "2.0.0",
       "_view_name": "StyleView",
       "background": null,
       "description_width": "",
       "font_size": null,
       "text_color": null
      }
     },
     "14e165e3df574fa6ae5d189fb033e99d": {
      "model_module": "@jupyter-widgets/base",
      "model_module_version": "2.0.0",
      "model_name": "LayoutModel",
      "state": {
       "_model_module": "@jupyter-widgets/base",
       "_model_module_version": "2.0.0",
       "_model_name": "LayoutModel",
       "_view_count": null,
       "_view_module": "@jupyter-widgets/base",
       "_view_module_version": "2.0.0",
       "_view_name": "LayoutView",
       "align_content": null,
       "align_items": null,
       "align_self": null,
       "border_bottom": null,
       "border_left": null,
       "border_right": null,
       "border_top": null,
       "bottom": null,
       "display": null,
       "flex": null,
       "flex_flow": null,
       "grid_area": null,
       "grid_auto_columns": null,
       "grid_auto_flow": null,
       "grid_auto_rows": null,
       "grid_column": null,
       "grid_gap": null,
       "grid_row": null,
       "grid_template_areas": null,
       "grid_template_columns": null,
       "grid_template_rows": null,
       "height": null,
       "justify_content": null,
       "justify_items": null,
       "left": null,
       "margin": null,
       "max_height": null,
       "max_width": null,
       "min_height": null,
       "min_width": null,
       "object_fit": null,
       "object_position": null,
       "order": null,
       "overflow": null,
       "padding": null,
       "right": null,
       "top": null,
       "visibility": null,
       "width": null
      }
     },
     "28eededce5514e818fc858773434af88": {
      "model_module": "@jupyter-widgets/controls",
      "model_module_version": "2.0.0",
      "model_name": "HTMLModel",
      "state": {
       "_dom_classes": [],
       "_model_module": "@jupyter-widgets/controls",
       "_model_module_version": "2.0.0",
       "_model_name": "HTMLModel",
       "_view_count": null,
       "_view_module": "@jupyter-widgets/controls",
       "_view_module_version": "2.0.0",
       "_view_name": "HTMLView",
       "description": "",
       "description_allow_html": false,
       "layout": "IPY_MODEL_082175831430497488deb62f6417d7f8",
       "placeholder": "​",
       "style": "IPY_MODEL_a98f27ad7edc462c9323d61e1c2fb3a6",
       "tabbable": null,
       "tooltip": null,
       "value": "Computing checksums: 100%"
      }
     },
     "29ab2afa13f2473a8366af0020a98686": {
      "model_module": "@jupyter-widgets/controls",
      "model_module_version": "2.0.0",
      "model_name": "HTMLStyleModel",
      "state": {
       "_model_module": "@jupyter-widgets/controls",
       "_model_module_version": "2.0.0",
       "_model_name": "HTMLStyleModel",
       "_view_count": null,
       "_view_module": "@jupyter-widgets/base",
       "_view_module_version": "2.0.0",
       "_view_name": "StyleView",
       "background": null,
       "description_width": "",
       "font_size": null,
       "text_color": null
      }
     },
     "2f3040e3d93a481f8a0a384f10e1e3f9": {
      "model_module": "@jupyter-widgets/base",
      "model_module_version": "2.0.0",
      "model_name": "LayoutModel",
      "state": {
       "_model_module": "@jupyter-widgets/base",
       "_model_module_version": "2.0.0",
       "_model_name": "LayoutModel",
       "_view_count": null,
       "_view_module": "@jupyter-widgets/base",
       "_view_module_version": "2.0.0",
       "_view_name": "LayoutView",
       "align_content": null,
       "align_items": null,
       "align_self": null,
       "border_bottom": null,
       "border_left": null,
       "border_right": null,
       "border_top": null,
       "bottom": null,
       "display": null,
       "flex": null,
       "flex_flow": null,
       "grid_area": null,
       "grid_auto_columns": null,
       "grid_auto_flow": null,
       "grid_auto_rows": null,
       "grid_column": null,
       "grid_gap": null,
       "grid_row": null,
       "grid_template_areas": null,
       "grid_template_columns": null,
       "grid_template_rows": null,
       "height": null,
       "justify_content": null,
       "justify_items": null,
       "left": null,
       "margin": null,
       "max_height": null,
       "max_width": null,
       "min_height": null,
       "min_width": null,
       "object_fit": null,
       "object_position": null,
       "order": null,
       "overflow": null,
       "padding": null,
       "right": null,
       "top": null,
       "visibility": null,
       "width": null
      }
     },
     "32e967f1697a4e339e7a769401c6c0a6": {
      "model_module": "@jupyter-widgets/controls",
      "model_module_version": "2.0.0",
      "model_name": "HTMLStyleModel",
      "state": {
       "_model_module": "@jupyter-widgets/controls",
       "_model_module_version": "2.0.0",
       "_model_name": "HTMLStyleModel",
       "_view_count": null,
       "_view_module": "@jupyter-widgets/base",
       "_view_module_version": "2.0.0",
       "_view_name": "StyleView",
       "background": null,
       "description_width": "",
       "font_size": null,
       "text_color": null
      }
     },
     "330dccf1df6044b882bde32b9d53fd74": {
      "model_module": "@jupyter-widgets/base",
      "model_module_version": "2.0.0",
      "model_name": "LayoutModel",
      "state": {
       "_model_module": "@jupyter-widgets/base",
       "_model_module_version": "2.0.0",
       "_model_name": "LayoutModel",
       "_view_count": null,
       "_view_module": "@jupyter-widgets/base",
       "_view_module_version": "2.0.0",
       "_view_name": "LayoutView",
       "align_content": null,
       "align_items": null,
       "align_self": null,
       "border_bottom": null,
       "border_left": null,
       "border_right": null,
       "border_top": null,
       "bottom": null,
       "display": null,
       "flex": null,
       "flex_flow": null,
       "grid_area": null,
       "grid_auto_columns": null,
       "grid_auto_flow": null,
       "grid_auto_rows": null,
       "grid_column": null,
       "grid_gap": null,
       "grid_row": null,
       "grid_template_areas": null,
       "grid_template_columns": null,
       "grid_template_rows": null,
       "height": null,
       "justify_content": null,
       "justify_items": null,
       "left": null,
       "margin": null,
       "max_height": null,
       "max_width": null,
       "min_height": null,
       "min_width": null,
       "object_fit": null,
       "object_position": null,
       "order": null,
       "overflow": null,
       "padding": null,
       "right": null,
       "top": null,
       "visibility": null,
       "width": null
      }
     },
     "343a97f12d0e483193f3edc7e61790b2": {
      "model_module": "@jupyter-widgets/controls",
      "model_module_version": "2.0.0",
      "model_name": "ProgressStyleModel",
      "state": {
       "_model_module": "@jupyter-widgets/controls",
       "_model_module_version": "2.0.0",
       "_model_name": "ProgressStyleModel",
       "_view_count": null,
       "_view_module": "@jupyter-widgets/base",
       "_view_module_version": "2.0.0",
       "_view_name": "StyleView",
       "bar_color": null,
       "description_width": ""
      }
     },
     "38d2509d208e465494bca24c1b667bb4": {
      "model_module": "@jupyter-widgets/controls",
      "model_module_version": "2.0.0",
      "model_name": "ProgressStyleModel",
      "state": {
       "_model_module": "@jupyter-widgets/controls",
       "_model_module_version": "2.0.0",
       "_model_name": "ProgressStyleModel",
       "_view_count": null,
       "_view_module": "@jupyter-widgets/base",
       "_view_module_version": "2.0.0",
       "_view_name": "StyleView",
       "bar_color": null,
       "description_width": ""
      }
     },
     "42568e4b58f34e09a086d9cd5d3d7d65": {
      "model_module": "@jupyter-widgets/base",
      "model_module_version": "2.0.0",
      "model_name": "LayoutModel",
      "state": {
       "_model_module": "@jupyter-widgets/base",
       "_model_module_version": "2.0.0",
       "_model_name": "LayoutModel",
       "_view_count": null,
       "_view_module": "@jupyter-widgets/base",
       "_view_module_version": "2.0.0",
       "_view_name": "LayoutView",
       "align_content": null,
       "align_items": null,
       "align_self": null,
       "border_bottom": null,
       "border_left": null,
       "border_right": null,
       "border_top": null,
       "bottom": null,
       "display": null,
       "flex": null,
       "flex_flow": null,
       "grid_area": null,
       "grid_auto_columns": null,
       "grid_auto_flow": null,
       "grid_auto_rows": null,
       "grid_column": null,
       "grid_gap": null,
       "grid_row": null,
       "grid_template_areas": null,
       "grid_template_columns": null,
       "grid_template_rows": null,
       "height": null,
       "justify_content": null,
       "justify_items": null,
       "left": null,
       "margin": null,
       "max_height": null,
       "max_width": null,
       "min_height": null,
       "min_width": null,
       "object_fit": null,
       "object_position": null,
       "order": null,
       "overflow": null,
       "padding": null,
       "right": null,
       "top": null,
       "visibility": null,
       "width": null
      }
     },
     "46f772969ace4990b0d4d5f1c4ee1cf8": {
      "model_module": "@jupyter-widgets/controls",
      "model_module_version": "2.0.0",
      "model_name": "HTMLModel",
      "state": {
       "_dom_classes": [],
       "_model_module": "@jupyter-widgets/controls",
       "_model_module_version": "2.0.0",
       "_model_name": "HTMLModel",
       "_view_count": null,
       "_view_module": "@jupyter-widgets/controls",
       "_view_module_version": "2.0.0",
       "_view_name": "HTMLView",
       "description": "",
       "description_allow_html": false,
       "layout": "IPY_MODEL_d9f996b0cdd24b5b92ed34018df52f1a",
       "placeholder": "​",
       "style": "IPY_MODEL_91151db9dea943ae8c2c25899406811e",
       "tabbable": null,
       "tooltip": null,
       "value": " 391M/391M [00:01&lt;00:00, 218MB/s]"
      }
     },
     "4d35392486814dfb8981133a811db9cb": {
      "model_module": "@jupyter-widgets/controls",
      "model_module_version": "2.0.0",
      "model_name": "FloatProgressModel",
      "state": {
       "_dom_classes": [],
       "_model_module": "@jupyter-widgets/controls",
       "_model_module_version": "2.0.0",
       "_model_name": "FloatProgressModel",
       "_view_count": null,
       "_view_module": "@jupyter-widgets/controls",
       "_view_module_version": "2.0.0",
       "_view_name": "ProgressView",
       "bar_style": "success",
       "description": "",
       "description_allow_html": false,
       "layout": "IPY_MODEL_9e6c40302d2f4fc0a3d6c3683a31835e",
       "max": 23410,
       "min": 0,
       "orientation": "horizontal",
       "style": "IPY_MODEL_38d2509d208e465494bca24c1b667bb4",
       "tabbable": null,
       "tooltip": null,
       "value": 23410
      }
     },
     "4d3574679e324c56a74ecdba567a0f9a": {
      "model_module": "@jupyter-widgets/controls",
      "model_module_version": "2.0.0",
      "model_name": "ProgressStyleModel",
      "state": {
       "_model_module": "@jupyter-widgets/controls",
       "_model_module_version": "2.0.0",
       "_model_name": "ProgressStyleModel",
       "_view_count": null,
       "_view_module": "@jupyter-widgets/base",
       "_view_module_version": "2.0.0",
       "_view_name": "StyleView",
       "bar_color": null,
       "description_width": ""
      }
     },
     "4ee4029c55ee4e948a395df3b043a622": {
      "model_module": "@jupyter-widgets/base",
      "model_module_version": "2.0.0",
      "model_name": "LayoutModel",
      "state": {
       "_model_module": "@jupyter-widgets/base",
       "_model_module_version": "2.0.0",
       "_model_name": "LayoutModel",
       "_view_count": null,
       "_view_module": "@jupyter-widgets/base",
       "_view_module_version": "2.0.0",
       "_view_name": "LayoutView",
       "align_content": null,
       "align_items": null,
       "align_self": null,
       "border_bottom": null,
       "border_left": null,
       "border_right": null,
       "border_top": null,
       "bottom": null,
       "display": null,
       "flex": null,
       "flex_flow": null,
       "grid_area": null,
       "grid_auto_columns": null,
       "grid_auto_flow": null,
       "grid_auto_rows": null,
       "grid_column": null,
       "grid_gap": null,
       "grid_row": null,
       "grid_template_areas": null,
       "grid_template_columns": null,
       "grid_template_rows": null,
       "height": null,
       "justify_content": null,
       "justify_items": null,
       "left": null,
       "margin": null,
       "max_height": null,
       "max_width": null,
       "min_height": null,
       "min_width": null,
       "object_fit": null,
       "object_position": null,
       "order": null,
       "overflow": null,
       "padding": null,
       "right": null,
       "top": null,
       "visibility": null,
       "width": null
      }
     },
     "53affeedf70a4bc29f74bcd6eb33d5ea": {
      "model_module": "@jupyter-widgets/controls",
      "model_module_version": "2.0.0",
      "model_name": "HTMLStyleModel",
      "state": {
       "_model_module": "@jupyter-widgets/controls",
       "_model_module_version": "2.0.0",
       "_model_name": "HTMLStyleModel",
       "_view_count": null,
       "_view_module": "@jupyter-widgets/base",
       "_view_module_version": "2.0.0",
       "_view_name": "StyleView",
       "background": null,
       "description_width": "",
       "font_size": null,
       "text_color": null
      }
     },
     "5529deda299c4b9ea84b248faab4130a": {
      "model_module": "@jupyter-widgets/controls",
      "model_module_version": "2.0.0",
      "model_name": "HBoxModel",
      "state": {
       "_dom_classes": [],
       "_model_module": "@jupyter-widgets/controls",
       "_model_module_version": "2.0.0",
       "_model_name": "HBoxModel",
       "_view_count": null,
       "_view_module": "@jupyter-widgets/controls",
       "_view_module_version": "2.0.0",
       "_view_name": "HBoxView",
       "box_style": "",
       "children": [
        "IPY_MODEL_984f7b1d064344928dcaf87efc0d6385",
        "IPY_MODEL_bd6718b7924b4b0dbaa61f711dff1636",
        "IPY_MODEL_b8e39bb497904a65a25a0494637a5978"
       ],
       "layout": "IPY_MODEL_d5fb5792db23466d956565f142ef7b14",
       "tabbable": null,
       "tooltip": null
      }
     },
     "55cb2fac2d7b46e4991e72d435d4ed28": {
      "model_module": "@jupyter-widgets/controls",
      "model_module_version": "2.0.0",
      "model_name": "FloatProgressModel",
      "state": {
       "_dom_classes": [],
       "_model_module": "@jupyter-widgets/controls",
       "_model_module_version": "2.0.0",
       "_model_name": "FloatProgressModel",
       "_view_count": null,
       "_view_module": "@jupyter-widgets/controls",
       "_view_module_version": "2.0.0",
       "_view_name": "ProgressView",
       "bar_style": "success",
       "description": "",
       "description_allow_html": false,
       "layout": "IPY_MODEL_f8f2147e8301479cbe1fbd8c374e0fca",
       "max": 8161,
       "min": 0,
       "orientation": "horizontal",
       "style": "IPY_MODEL_343a97f12d0e483193f3edc7e61790b2",
       "tabbable": null,
       "tooltip": null,
       "value": 8161
      }
     },
     "56d805c9917946988c35df17c67b320a": {
      "model_module": "@jupyter-widgets/controls",
      "model_module_version": "2.0.0",
      "model_name": "HTMLStyleModel",
      "state": {
       "_model_module": "@jupyter-widgets/controls",
       "_model_module_version": "2.0.0",
       "_model_name": "HTMLStyleModel",
       "_view_count": null,
       "_view_module": "@jupyter-widgets/base",
       "_view_module_version": "2.0.0",
       "_view_name": "StyleView",
       "background": null,
       "description_width": "",
       "font_size": null,
       "text_color": null
      }
     },
     "5d491e879a1a480c86d38c4b5636265e": {
      "model_module": "@jupyter-widgets/base",
      "model_module_version": "2.0.0",
      "model_name": "LayoutModel",
      "state": {
       "_model_module": "@jupyter-widgets/base",
       "_model_module_version": "2.0.0",
       "_model_name": "LayoutModel",
       "_view_count": null,
       "_view_module": "@jupyter-widgets/base",
       "_view_module_version": "2.0.0",
       "_view_name": "LayoutView",
       "align_content": null,
       "align_items": null,
       "align_self": null,
       "border_bottom": null,
       "border_left": null,
       "border_right": null,
       "border_top": null,
       "bottom": null,
       "display": null,
       "flex": null,
       "flex_flow": null,
       "grid_area": null,
       "grid_auto_columns": null,
       "grid_auto_flow": null,
       "grid_auto_rows": null,
       "grid_column": null,
       "grid_gap": null,
       "grid_row": null,
       "grid_template_areas": null,
       "grid_template_columns": null,
       "grid_template_rows": null,
       "height": null,
       "justify_content": null,
       "justify_items": null,
       "left": null,
       "margin": null,
       "max_height": null,
       "max_width": null,
       "min_height": null,
       "min_width": null,
       "object_fit": null,
       "object_position": null,
       "order": null,
       "overflow": null,
       "padding": null,
       "right": null,
       "top": null,
       "visibility": null,
       "width": null
      }
     },
     "62eb7814644d4aca9f3fded965bd0a22": {
      "model_module": "@jupyter-widgets/controls",
      "model_module_version": "2.0.0",
      "model_name": "HTMLModel",
      "state": {
       "_dom_classes": [],
       "_model_module": "@jupyter-widgets/controls",
       "_model_module_version": "2.0.0",
       "_model_name": "HTMLModel",
       "_view_count": null,
       "_view_module": "@jupyter-widgets/controls",
       "_view_module_version": "2.0.0",
       "_view_name": "HTMLView",
       "description": "",
       "description_allow_html": false,
       "layout": "IPY_MODEL_76d406df141d4139a001e155f5f5e580",
       "placeholder": "​",
       "style": "IPY_MODEL_0482a1b443494845882298b2f4c2682b",
       "tabbable": null,
       "tooltip": null,
       "value": "train-00001-of-00002.parquet: 100%"
      }
     },
     "76d406df141d4139a001e155f5f5e580": {
      "model_module": "@jupyter-widgets/base",
      "model_module_version": "2.0.0",
      "model_name": "LayoutModel",
      "state": {
       "_model_module": "@jupyter-widgets/base",
       "_model_module_version": "2.0.0",
       "_model_name": "LayoutModel",
       "_view_count": null,
       "_view_module": "@jupyter-widgets/base",
       "_view_module_version": "2.0.0",
       "_view_name": "LayoutView",
       "align_content": null,
       "align_items": null,
       "align_self": null,
       "border_bottom": null,
       "border_left": null,
       "border_right": null,
       "border_top": null,
       "bottom": null,
       "display": null,
       "flex": null,
       "flex_flow": null,
       "grid_area": null,
       "grid_auto_columns": null,
       "grid_auto_flow": null,
       "grid_auto_rows": null,
       "grid_column": null,
       "grid_gap": null,
       "grid_row": null,
       "grid_template_areas": null,
       "grid_template_columns": null,
       "grid_template_rows": null,
       "height": null,
       "justify_content": null,
       "justify_items": null,
       "left": null,
       "margin": null,
       "max_height": null,
       "max_width": null,
       "min_height": null,
       "min_width": null,
       "object_fit": null,
       "object_position": null,
       "order": null,
       "overflow": null,
       "padding": null,
       "right": null,
       "top": null,
       "visibility": null,
       "width": null
      }
     },
     "771184829e3b4f5895d31070faf329e5": {
      "model_module": "@jupyter-widgets/base",
      "model_module_version": "2.0.0",
      "model_name": "LayoutModel",
      "state": {
       "_model_module": "@jupyter-widgets/base",
       "_model_module_version": "2.0.0",
       "_model_name": "LayoutModel",
       "_view_count": null,
       "_view_module": "@jupyter-widgets/base",
       "_view_module_version": "2.0.0",
       "_view_name": "LayoutView",
       "align_content": null,
       "align_items": null,
       "align_self": null,
       "border_bottom": null,
       "border_left": null,
       "border_right": null,
       "border_top": null,
       "bottom": null,
       "display": null,
       "flex": null,
       "flex_flow": null,
       "grid_area": null,
       "grid_auto_columns": null,
       "grid_auto_flow": null,
       "grid_auto_rows": null,
       "grid_column": null,
       "grid_gap": null,
       "grid_row": null,
       "grid_template_areas": null,
       "grid_template_columns": null,
       "grid_template_rows": null,
       "height": null,
       "justify_content": null,
       "justify_items": null,
       "left": null,
       "margin": null,
       "max_height": null,
       "max_width": null,
       "min_height": null,
       "min_width": null,
       "object_fit": null,
       "object_position": null,
       "order": null,
       "overflow": null,
       "padding": null,
       "right": null,
       "top": null,
       "visibility": null,
       "width": null
      }
     },
     "7988e8513501483d9f8d4a220f40fadd": {
      "model_module": "@jupyter-widgets/base",
      "model_module_version": "2.0.0",
      "model_name": "LayoutModel",
      "state": {
       "_model_module": "@jupyter-widgets/base",
       "_model_module_version": "2.0.0",
       "_model_name": "LayoutModel",
       "_view_count": null,
       "_view_module": "@jupyter-widgets/base",
       "_view_module_version": "2.0.0",
       "_view_name": "LayoutView",
       "align_content": null,
       "align_items": null,
       "align_self": null,
       "border_bottom": null,
       "border_left": null,
       "border_right": null,
       "border_top": null,
       "bottom": null,
       "display": null,
       "flex": null,
       "flex_flow": null,
       "grid_area": null,
       "grid_auto_columns": null,
       "grid_auto_flow": null,
       "grid_auto_rows": null,
       "grid_column": null,
       "grid_gap": null,
       "grid_row": null,
       "grid_template_areas": null,
       "grid_template_columns": null,
       "grid_template_rows": null,
       "height": null,
       "justify_content": null,
       "justify_items": null,
       "left": null,
       "margin": null,
       "max_height": null,
       "max_width": null,
       "min_height": null,
       "min_width": null,
       "object_fit": null,
       "object_position": null,
       "order": null,
       "overflow": null,
       "padding": null,
       "right": null,
       "top": null,
       "visibility": null,
       "width": null
      }
     },
     "7abea2d4ed864fa1ae33b59595477cb5": {
      "model_module": "@jupyter-widgets/controls",
      "model_module_version": "2.0.0",
      "model_name": "HBoxModel",
      "state": {
       "_dom_classes": [],
       "_model_module": "@jupyter-widgets/controls",
       "_model_module_version": "2.0.0",
       "_model_name": "HBoxModel",
       "_view_count": null,
       "_view_module": "@jupyter-widgets/controls",
       "_view_module_version": "2.0.0",
       "_view_name": "HBoxView",
       "box_style": "",
       "children": [
        "IPY_MODEL_90648f6e586d4e5c9e38523f2e412bba",
        "IPY_MODEL_4d35392486814dfb8981133a811db9cb",
        "IPY_MODEL_ab4b4ead1ccf4b88be95e97ee3750a6d"
       ],
       "layout": "IPY_MODEL_42568e4b58f34e09a086d9cd5d3d7d65",
       "tabbable": null,
       "tooltip": null
      }
     },
     "7e5bfb3c556344afb2bb5f1c96d8f0ad": {
      "model_module": "@jupyter-widgets/base",
      "model_module_version": "2.0.0",
      "model_name": "LayoutModel",
      "state": {
       "_model_module": "@jupyter-widgets/base",
       "_model_module_version": "2.0.0",
       "_model_name": "LayoutModel",
       "_view_count": null,
       "_view_module": "@jupyter-widgets/base",
       "_view_module_version": "2.0.0",
       "_view_name": "LayoutView",
       "align_content": null,
       "align_items": null,
       "align_self": null,
       "border_bottom": null,
       "border_left": null,
       "border_right": null,
       "border_top": null,
       "bottom": null,
       "display": null,
       "flex": null,
       "flex_flow": null,
       "grid_area": null,
       "grid_auto_columns": null,
       "grid_auto_flow": null,
       "grid_auto_rows": null,
       "grid_column": null,
       "grid_gap": null,
       "grid_row": null,
       "grid_template_areas": null,
       "grid_template_columns": null,
       "grid_template_rows": null,
       "height": null,
       "justify_content": null,
       "justify_items": null,
       "left": null,
       "margin": null,
       "max_height": null,
       "max_width": null,
       "min_height": null,
       "min_width": null,
       "object_fit": null,
       "object_position": null,
       "order": null,
       "overflow": null,
       "padding": null,
       "right": null,
       "top": null,
       "visibility": null,
       "width": null
      }
     },
     "7ee2b41be5144d9095c30a0275e9616a": {
      "model_module": "@jupyter-widgets/base",
      "model_module_version": "2.0.0",
      "model_name": "LayoutModel",
      "state": {
       "_model_module": "@jupyter-widgets/base",
       "_model_module_version": "2.0.0",
       "_model_name": "LayoutModel",
       "_view_count": null,
       "_view_module": "@jupyter-widgets/base",
       "_view_module_version": "2.0.0",
       "_view_name": "LayoutView",
       "align_content": null,
       "align_items": null,
       "align_self": null,
       "border_bottom": null,
       "border_left": null,
       "border_right": null,
       "border_top": null,
       "bottom": null,
       "display": null,
       "flex": null,
       "flex_flow": null,
       "grid_area": null,
       "grid_auto_columns": null,
       "grid_auto_flow": null,
       "grid_auto_rows": null,
       "grid_column": null,
       "grid_gap": null,
       "grid_row": null,
       "grid_template_areas": null,
       "grid_template_columns": null,
       "grid_template_rows": null,
       "height": null,
       "justify_content": null,
       "justify_items": null,
       "left": null,
       "margin": null,
       "max_height": null,
       "max_width": null,
       "min_height": null,
       "min_width": null,
       "object_fit": null,
       "object_position": null,
       "order": null,
       "overflow": null,
       "padding": null,
       "right": null,
       "top": null,
       "visibility": null,
       "width": null
      }
     },
     "8a9df1a49a014a8385477c7677f07469": {
      "model_module": "@jupyter-widgets/controls",
      "model_module_version": "2.0.0",
      "model_name": "HBoxModel",
      "state": {
       "_dom_classes": [],
       "_model_module": "@jupyter-widgets/controls",
       "_model_module_version": "2.0.0",
       "_model_name": "HBoxModel",
       "_view_count": null,
       "_view_module": "@jupyter-widgets/controls",
       "_view_module_version": "2.0.0",
       "_view_name": "HBoxView",
       "box_style": "",
       "children": [
        "IPY_MODEL_8ba4a66437fa488397c0d91e03afc733",
        "IPY_MODEL_c58582c0efc440719e4bdfe90d390eaf",
        "IPY_MODEL_f00f83d94f3c4f7293880f8288c54d9b"
       ],
       "layout": "IPY_MODEL_7e5bfb3c556344afb2bb5f1c96d8f0ad",
       "tabbable": null,
       "tooltip": null
      }
     },
     "8ba4a66437fa488397c0d91e03afc733": {
      "model_module": "@jupyter-widgets/controls",
      "model_module_version": "2.0.0",
      "model_name": "HTMLModel",
      "state": {
       "_dom_classes": [],
       "_model_module": "@jupyter-widgets/controls",
       "_model_module_version": "2.0.0",
       "_model_name": "HTMLModel",
       "_view_count": null,
       "_view_module": "@jupyter-widgets/controls",
       "_view_module_version": "2.0.0",
       "_view_name": "HTMLView",
       "description": "",
       "description_allow_html": false,
       "layout": "IPY_MODEL_14e165e3df574fa6ae5d189fb033e99d",
       "placeholder": "​",
       "style": "IPY_MODEL_8f58dae65b594e6987dbae38925ec295",
       "tabbable": null,
       "tooltip": null,
       "value": "train-00000-of-00002.parquet: 100%"
      }
     },
     "8f58dae65b594e6987dbae38925ec295": {
      "model_module": "@jupyter-widgets/controls",
      "model_module_version": "2.0.0",
      "model_name": "HTMLStyleModel",
      "state": {
       "_model_module": "@jupyter-widgets/controls",
       "_model_module_version": "2.0.0",
       "_model_name": "HTMLStyleModel",
       "_view_count": null,
       "_view_module": "@jupyter-widgets/base",
       "_view_module_version": "2.0.0",
       "_view_name": "StyleView",
       "background": null,
       "description_width": "",
       "font_size": null,
       "text_color": null
      }
     },
     "8fde5ceb46fe42fba7cbebd45e67e009": {
      "model_module": "@jupyter-widgets/controls",
      "model_module_version": "2.0.0",
      "model_name": "HBoxModel",
      "state": {
       "_dom_classes": [],
       "_model_module": "@jupyter-widgets/controls",
       "_model_module_version": "2.0.0",
       "_model_name": "HBoxModel",
       "_view_count": null,
       "_view_module": "@jupyter-widgets/controls",
       "_view_module_version": "2.0.0",
       "_view_name": "HBoxView",
       "box_style": "",
       "children": [
        "IPY_MODEL_28eededce5514e818fc858773434af88",
        "IPY_MODEL_ed3965e0295a4d969e327a4fed21441e",
        "IPY_MODEL_acc24dde30c94d8da40115bca897ae85"
       ],
       "layout": "IPY_MODEL_771184829e3b4f5895d31070faf329e5",
       "tabbable": null,
       "tooltip": null
      }
     },
     "90648f6e586d4e5c9e38523f2e412bba": {
      "model_module": "@jupyter-widgets/controls",
      "model_module_version": "2.0.0",
      "model_name": "HTMLModel",
      "state": {
       "_dom_classes": [],
       "_model_module": "@jupyter-widgets/controls",
       "_model_module_version": "2.0.0",
       "_model_name": "HTMLModel",
       "_view_count": null,
       "_view_module": "@jupyter-widgets/controls",
       "_view_module_version": "2.0.0",
       "_view_name": "HTMLView",
       "description": "",
       "description_allow_html": false,
       "layout": "IPY_MODEL_7988e8513501483d9f8d4a220f40fadd",
       "placeholder": "​",
       "style": "IPY_MODEL_32e967f1697a4e339e7a769401c6c0a6",
       "tabbable": null,
       "tooltip": null,
       "value": "Generating train split: 100%"
      }
     },
     "91151db9dea943ae8c2c25899406811e": {
      "model_module": "@jupyter-widgets/controls",
      "model_module_version": "2.0.0",
      "model_name": "HTMLStyleModel",
      "state": {
       "_model_module": "@jupyter-widgets/controls",
       "_model_module_version": "2.0.0",
       "_model_name": "HTMLStyleModel",
       "_view_count": null,
       "_view_module": "@jupyter-widgets/base",
       "_view_module_version": "2.0.0",
       "_view_name": "StyleView",
       "background": null,
       "description_width": "",
       "font_size": null,
       "text_color": null
      }
     },
     "9414cf5411314bc4bcec8a11ba32de2d": {
      "model_module": "@jupyter-widgets/base",
      "model_module_version": "2.0.0",
      "model_name": "LayoutModel",
      "state": {
       "_model_module": "@jupyter-widgets/base",
       "_model_module_version": "2.0.0",
       "_model_name": "LayoutModel",
       "_view_count": null,
       "_view_module": "@jupyter-widgets/base",
       "_view_module_version": "2.0.0",
       "_view_name": "LayoutView",
       "align_content": null,
       "align_items": null,
       "align_self": null,
       "border_bottom": null,
       "border_left": null,
       "border_right": null,
       "border_top": null,
       "bottom": null,
       "display": null,
       "flex": null,
       "flex_flow": null,
       "grid_area": null,
       "grid_auto_columns": null,
       "grid_auto_flow": null,
       "grid_auto_rows": null,
       "grid_column": null,
       "grid_gap": null,
       "grid_row": null,
       "grid_template_areas": null,
       "grid_template_columns": null,
       "grid_template_rows": null,
       "height": null,
       "justify_content": null,
       "justify_items": null,
       "left": null,
       "margin": null,
       "max_height": null,
       "max_width": null,
       "min_height": null,
       "min_width": null,
       "object_fit": null,
       "object_position": null,
       "order": null,
       "overflow": null,
       "padding": null,
       "right": null,
       "top": null,
       "visibility": null,
       "width": null
      }
     },
     "984f7b1d064344928dcaf87efc0d6385": {
      "model_module": "@jupyter-widgets/controls",
      "model_module_version": "2.0.0",
      "model_name": "HTMLModel",
      "state": {
       "_dom_classes": [],
       "_model_module": "@jupyter-widgets/controls",
       "_model_module_version": "2.0.0",
       "_model_name": "HTMLModel",
       "_view_count": null,
       "_view_module": "@jupyter-widgets/controls",
       "_view_module_version": "2.0.0",
       "_view_name": "HTMLView",
       "description": "",
       "description_allow_html": false,
       "layout": "IPY_MODEL_4ee4029c55ee4e948a395df3b043a622",
       "placeholder": "​",
       "style": "IPY_MODEL_a614d56888bf42d2a82d7e7917a98c2e",
       "tabbable": null,
       "tooltip": null,
       "value": "Filter: 100%"
      }
     },
     "9e6c40302d2f4fc0a3d6c3683a31835e": {
      "model_module": "@jupyter-widgets/base",
      "model_module_version": "2.0.0",
      "model_name": "LayoutModel",
      "state": {
       "_model_module": "@jupyter-widgets/base",
       "_model_module_version": "2.0.0",
       "_model_name": "LayoutModel",
       "_view_count": null,
       "_view_module": "@jupyter-widgets/base",
       "_view_module_version": "2.0.0",
       "_view_name": "LayoutView",
       "align_content": null,
       "align_items": null,
       "align_self": null,
       "border_bottom": null,
       "border_left": null,
       "border_right": null,
       "border_top": null,
       "bottom": null,
       "display": null,
       "flex": null,
       "flex_flow": null,
       "grid_area": null,
       "grid_auto_columns": null,
       "grid_auto_flow": null,
       "grid_auto_rows": null,
       "grid_column": null,
       "grid_gap": null,
       "grid_row": null,
       "grid_template_areas": null,
       "grid_template_columns": null,
       "grid_template_rows": null,
       "height": null,
       "justify_content": null,
       "justify_items": null,
       "left": null,
       "margin": null,
       "max_height": null,
       "max_width": null,
       "min_height": null,
       "min_width": null,
       "object_fit": null,
       "object_position": null,
       "order": null,
       "overflow": null,
       "padding": null,
       "right": null,
       "top": null,
       "visibility": null,
       "width": null
      }
     },
     "a5f39ba7ac584eba964a2e8868ca5197": {
      "model_module": "@jupyter-widgets/controls",
      "model_module_version": "2.0.0",
      "model_name": "HTMLStyleModel",
      "state": {
       "_model_module": "@jupyter-widgets/controls",
       "_model_module_version": "2.0.0",
       "_model_name": "HTMLStyleModel",
       "_view_count": null,
       "_view_module": "@jupyter-widgets/base",
       "_view_module_version": "2.0.0",
       "_view_name": "StyleView",
       "background": null,
       "description_width": "",
       "font_size": null,
       "text_color": null
      }
     },
     "a614d56888bf42d2a82d7e7917a98c2e": {
      "model_module": "@jupyter-widgets/controls",
      "model_module_version": "2.0.0",
      "model_name": "HTMLStyleModel",
      "state": {
       "_model_module": "@jupyter-widgets/controls",
       "_model_module_version": "2.0.0",
       "_model_name": "HTMLStyleModel",
       "_view_count": null,
       "_view_module": "@jupyter-widgets/base",
       "_view_module_version": "2.0.0",
       "_view_name": "StyleView",
       "background": null,
       "description_width": "",
       "font_size": null,
       "text_color": null
      }
     },
     "a98f27ad7edc462c9323d61e1c2fb3a6": {
      "model_module": "@jupyter-widgets/controls",
      "model_module_version": "2.0.0",
      "model_name": "HTMLStyleModel",
      "state": {
       "_model_module": "@jupyter-widgets/controls",
       "_model_module_version": "2.0.0",
       "_model_name": "HTMLStyleModel",
       "_view_count": null,
       "_view_module": "@jupyter-widgets/base",
       "_view_module_version": "2.0.0",
       "_view_name": "StyleView",
       "background": null,
       "description_width": "",
       "font_size": null,
       "text_color": null
      }
     },
     "aa7ac9d407cf4176b4fb3f179b582679": {
      "model_module": "@jupyter-widgets/base",
      "model_module_version": "2.0.0",
      "model_name": "LayoutModel",
      "state": {
       "_model_module": "@jupyter-widgets/base",
       "_model_module_version": "2.0.0",
       "_model_name": "LayoutModel",
       "_view_count": null,
       "_view_module": "@jupyter-widgets/base",
       "_view_module_version": "2.0.0",
       "_view_name": "LayoutView",
       "align_content": null,
       "align_items": null,
       "align_self": null,
       "border_bottom": null,
       "border_left": null,
       "border_right": null,
       "border_top": null,
       "bottom": null,
       "display": null,
       "flex": null,
       "flex_flow": null,
       "grid_area": null,
       "grid_auto_columns": null,
       "grid_auto_flow": null,
       "grid_auto_rows": null,
       "grid_column": null,
       "grid_gap": null,
       "grid_row": null,
       "grid_template_areas": null,
       "grid_template_columns": null,
       "grid_template_rows": null,
       "height": null,
       "justify_content": null,
       "justify_items": null,
       "left": null,
       "margin": null,
       "max_height": null,
       "max_width": null,
       "min_height": null,
       "min_width": null,
       "object_fit": null,
       "object_position": null,
       "order": null,
       "overflow": null,
       "padding": null,
       "right": null,
       "top": null,
       "visibility": null,
       "width": null
      }
     },
     "ab4b4ead1ccf4b88be95e97ee3750a6d": {
      "model_module": "@jupyter-widgets/controls",
      "model_module_version": "2.0.0",
      "model_name": "HTMLModel",
      "state": {
       "_dom_classes": [],
       "_model_module": "@jupyter-widgets/controls",
       "_model_module_version": "2.0.0",
       "_model_name": "HTMLModel",
       "_view_count": null,
       "_view_module": "@jupyter-widgets/controls",
       "_view_module_version": "2.0.0",
       "_view_name": "HTMLView",
       "description": "",
       "description_allow_html": false,
       "layout": "IPY_MODEL_2f3040e3d93a481f8a0a384f10e1e3f9",
       "placeholder": "​",
       "style": "IPY_MODEL_56d805c9917946988c35df17c67b320a",
       "tabbable": null,
       "tooltip": null,
       "value": " 23410/23410 [00:01&lt;00:00, 16486.70 examples/s]"
      }
     },
     "acc24dde30c94d8da40115bca897ae85": {
      "model_module": "@jupyter-widgets/controls",
      "model_module_version": "2.0.0",
      "model_name": "HTMLModel",
      "state": {
       "_dom_classes": [],
       "_model_module": "@jupyter-widgets/controls",
       "_model_module_version": "2.0.0",
       "_model_name": "HTMLModel",
       "_view_count": null,
       "_view_module": "@jupyter-widgets/controls",
       "_view_module_version": "2.0.0",
       "_view_name": "HTMLView",
       "description": "",
       "description_allow_html": false,
       "layout": "IPY_MODEL_09a86c1b3995449fb9b7c5e2435d0b80",
       "placeholder": "​",
       "style": "IPY_MODEL_b56a1ea44301453ea38f82c7f2100b5f",
       "tabbable": null,
       "tooltip": null,
       "value": " 2/2 [00:00&lt;00:00, 406.96it/s]"
      }
     },
     "adff5c37cdfa4654b0f7e62b1203a1cc": {
      "model_module": "@jupyter-widgets/base",
      "model_module_version": "2.0.0",
      "model_name": "LayoutModel",
      "state": {
       "_model_module": "@jupyter-widgets/base",
       "_model_module_version": "2.0.0",
       "_model_name": "LayoutModel",
       "_view_count": null,
       "_view_module": "@jupyter-widgets/base",
       "_view_module_version": "2.0.0",
       "_view_name": "LayoutView",
       "align_content": null,
       "align_items": null,
       "align_self": null,
       "border_bottom": null,
       "border_left": null,
       "border_right": null,
       "border_top": null,
       "bottom": null,
       "display": null,
       "flex": null,
       "flex_flow": null,
       "grid_area": null,
       "grid_auto_columns": null,
       "grid_auto_flow": null,
       "grid_auto_rows": null,
       "grid_column": null,
       "grid_gap": null,
       "grid_row": null,
       "grid_template_areas": null,
       "grid_template_columns": null,
       "grid_template_rows": null,
       "height": null,
       "justify_content": null,
       "justify_items": null,
       "left": null,
       "margin": null,
       "max_height": null,
       "max_width": null,
       "min_height": null,
       "min_width": null,
       "object_fit": null,
       "object_position": null,
       "order": null,
       "overflow": null,
       "padding": null,
       "right": null,
       "top": null,
       "visibility": null,
       "width": null
      }
     },
     "afae91d7daf843af837a7687991d0bd7": {
      "model_module": "@jupyter-widgets/controls",
      "model_module_version": "2.0.0",
      "model_name": "FloatProgressModel",
      "state": {
       "_dom_classes": [],
       "_model_module": "@jupyter-widgets/controls",
       "_model_module_version": "2.0.0",
       "_model_name": "FloatProgressModel",
       "_view_count": null,
       "_view_module": "@jupyter-widgets/controls",
       "_view_module_version": "2.0.0",
       "_view_name": "ProgressView",
       "bar_style": "success",
       "description": "",
       "description_allow_html": false,
       "layout": "IPY_MODEL_5d491e879a1a480c86d38c4b5636265e",
       "max": 391396716,
       "min": 0,
       "orientation": "horizontal",
       "style": "IPY_MODEL_06345a0df91540239a300f535d29c300",
       "tabbable": null,
       "tooltip": null,
       "value": 391396716
      }
     },
     "b2042eacf2de459eb3d0456f25e33bd9": {
      "model_module": "@jupyter-widgets/controls",
      "model_module_version": "2.0.0",
      "model_name": "HBoxModel",
      "state": {
       "_dom_classes": [],
       "_model_module": "@jupyter-widgets/controls",
       "_model_module_version": "2.0.0",
       "_model_name": "HBoxModel",
       "_view_count": null,
       "_view_module": "@jupyter-widgets/controls",
       "_view_module_version": "2.0.0",
       "_view_name": "HBoxView",
       "box_style": "",
       "children": [
        "IPY_MODEL_0ef4cf39bd5f4f4494a772bb34483a27",
        "IPY_MODEL_e59364815d1e4717a33a1d93d7c8a4ea",
        "IPY_MODEL_0bf434cf4c1049d684d620ca1da0cb4c"
       ],
       "layout": "IPY_MODEL_fbf72abe4f664eccab9aa698aaa0dcad",
       "tabbable": null,
       "tooltip": null
      }
     },
     "b542cbaa780b444da2279989d2d82672": {
      "model_module": "@jupyter-widgets/controls",
      "model_module_version": "2.0.0",
      "model_name": "HTMLStyleModel",
      "state": {
       "_model_module": "@jupyter-widgets/controls",
       "_model_module_version": "2.0.0",
       "_model_name": "HTMLStyleModel",
       "_view_count": null,
       "_view_module": "@jupyter-widgets/base",
       "_view_module_version": "2.0.0",
       "_view_name": "StyleView",
       "background": null,
       "description_width": "",
       "font_size": null,
       "text_color": null
      }
     },
     "b56a1ea44301453ea38f82c7f2100b5f": {
      "model_module": "@jupyter-widgets/controls",
      "model_module_version": "2.0.0",
      "model_name": "HTMLStyleModel",
      "state": {
       "_model_module": "@jupyter-widgets/controls",
       "_model_module_version": "2.0.0",
       "_model_name": "HTMLStyleModel",
       "_view_count": null,
       "_view_module": "@jupyter-widgets/base",
       "_view_module_version": "2.0.0",
       "_view_name": "StyleView",
       "background": null,
       "description_width": "",
       "font_size": null,
       "text_color": null
      }
     },
     "b69751fff4664f70a65a61fd05d1381a": {
      "model_module": "@jupyter-widgets/controls",
      "model_module_version": "2.0.0",
      "model_name": "HTMLModel",
      "state": {
       "_dom_classes": [],
       "_model_module": "@jupyter-widgets/controls",
       "_model_module_version": "2.0.0",
       "_model_name": "HTMLModel",
       "_view_count": null,
       "_view_module": "@jupyter-widgets/controls",
       "_view_module_version": "2.0.0",
       "_view_name": "HTMLView",
       "description": "",
       "description_allow_html": false,
       "layout": "IPY_MODEL_d2d45160ffc54c5aa339b1875b438ca0",
       "placeholder": "​",
       "style": "IPY_MODEL_14aaf45b516040a08d42c22002da5c09",
       "tabbable": null,
       "tooltip": null,
       "value": "README.md: 100%"
      }
     },
     "b8e39bb497904a65a25a0494637a5978": {
      "model_module": "@jupyter-widgets/controls",
      "model_module_version": "2.0.0",
      "model_name": "HTMLModel",
      "state": {
       "_dom_classes": [],
       "_model_module": "@jupyter-widgets/controls",
       "_model_module_version": "2.0.0",
       "_model_name": "HTMLModel",
       "_view_count": null,
       "_view_module": "@jupyter-widgets/controls",
       "_view_module_version": "2.0.0",
       "_view_name": "HTMLView",
       "description": "",
       "description_allow_html": false,
       "layout": "IPY_MODEL_7ee2b41be5144d9095c30a0275e9616a",
       "placeholder": "​",
       "style": "IPY_MODEL_ded68f7c6b064c049dc29bc7dc15ddd4",
       "tabbable": null,
       "tooltip": null,
       "value": " 23410/23410 [00:29&lt;00:00, 767.61 examples/s]"
      }
     },
     "bd6718b7924b4b0dbaa61f711dff1636": {
      "model_module": "@jupyter-widgets/controls",
      "model_module_version": "2.0.0",
      "model_name": "FloatProgressModel",
      "state": {
       "_dom_classes": [],
       "_model_module": "@jupyter-widgets/controls",
       "_model_module_version": "2.0.0",
       "_model_name": "FloatProgressModel",
       "_view_count": null,
       "_view_module": "@jupyter-widgets/controls",
       "_view_module_version": "2.0.0",
       "_view_name": "ProgressView",
       "bar_style": "success",
       "description": "",
       "description_allow_html": false,
       "layout": "IPY_MODEL_330dccf1df6044b882bde32b9d53fd74",
       "max": 23410,
       "min": 0,
       "orientation": "horizontal",
       "style": "IPY_MODEL_4d3574679e324c56a74ecdba567a0f9a",
       "tabbable": null,
       "tooltip": null,
       "value": 23410
      }
     },
     "c58582c0efc440719e4bdfe90d390eaf": {
      "model_module": "@jupyter-widgets/controls",
      "model_module_version": "2.0.0",
      "model_name": "FloatProgressModel",
      "state": {
       "_dom_classes": [],
       "_model_module": "@jupyter-widgets/controls",
       "_model_module_version": "2.0.0",
       "_model_name": "FloatProgressModel",
       "_view_count": null,
       "_view_module": "@jupyter-widgets/controls",
       "_view_module_version": "2.0.0",
       "_view_name": "ProgressView",
       "bar_style": "success",
       "description": "",
       "description_allow_html": false,
       "layout": "IPY_MODEL_e01ec4e2ce8841f2a14594b4633012ed",
       "max": 330245704,
       "min": 0,
       "orientation": "horizontal",
       "style": "IPY_MODEL_d0ba4e4a7a1f403baa02851a3569bbb8",
       "tabbable": null,
       "tooltip": null,
       "value": 330245704
      }
     },
     "d0ba4e4a7a1f403baa02851a3569bbb8": {
      "model_module": "@jupyter-widgets/controls",
      "model_module_version": "2.0.0",
      "model_name": "ProgressStyleModel",
      "state": {
       "_model_module": "@jupyter-widgets/controls",
       "_model_module_version": "2.0.0",
       "_model_name": "ProgressStyleModel",
       "_view_count": null,
       "_view_module": "@jupyter-widgets/base",
       "_view_module_version": "2.0.0",
       "_view_name": "StyleView",
       "bar_color": null,
       "description_width": ""
      }
     },
     "d2d45160ffc54c5aa339b1875b438ca0": {
      "model_module": "@jupyter-widgets/base",
      "model_module_version": "2.0.0",
      "model_name": "LayoutModel",
      "state": {
       "_model_module": "@jupyter-widgets/base",
       "_model_module_version": "2.0.0",
       "_model_name": "LayoutModel",
       "_view_count": null,
       "_view_module": "@jupyter-widgets/base",
       "_view_module_version": "2.0.0",
       "_view_name": "LayoutView",
       "align_content": null,
       "align_items": null,
       "align_self": null,
       "border_bottom": null,
       "border_left": null,
       "border_right": null,
       "border_top": null,
       "bottom": null,
       "display": null,
       "flex": null,
       "flex_flow": null,
       "grid_area": null,
       "grid_auto_columns": null,
       "grid_auto_flow": null,
       "grid_auto_rows": null,
       "grid_column": null,
       "grid_gap": null,
       "grid_row": null,
       "grid_template_areas": null,
       "grid_template_columns": null,
       "grid_template_rows": null,
       "height": null,
       "justify_content": null,
       "justify_items": null,
       "left": null,
       "margin": null,
       "max_height": null,
       "max_width": null,
       "min_height": null,
       "min_width": null,
       "object_fit": null,
       "object_position": null,
       "order": null,
       "overflow": null,
       "padding": null,
       "right": null,
       "top": null,
       "visibility": null,
       "width": null
      }
     },
     "d5fb5792db23466d956565f142ef7b14": {
      "model_module": "@jupyter-widgets/base",
      "model_module_version": "2.0.0",
      "model_name": "LayoutModel",
      "state": {
       "_model_module": "@jupyter-widgets/base",
       "_model_module_version": "2.0.0",
       "_model_name": "LayoutModel",
       "_view_count": null,
       "_view_module": "@jupyter-widgets/base",
       "_view_module_version": "2.0.0",
       "_view_name": "LayoutView",
       "align_content": null,
       "align_items": null,
       "align_self": null,
       "border_bottom": null,
       "border_left": null,
       "border_right": null,
       "border_top": null,
       "bottom": null,
       "display": null,
       "flex": null,
       "flex_flow": null,
       "grid_area": null,
       "grid_auto_columns": null,
       "grid_auto_flow": null,
       "grid_auto_rows": null,
       "grid_column": null,
       "grid_gap": null,
       "grid_row": null,
       "grid_template_areas": null,
       "grid_template_columns": null,
       "grid_template_rows": null,
       "height": null,
       "justify_content": null,
       "justify_items": null,
       "left": null,
       "margin": null,
       "max_height": null,
       "max_width": null,
       "min_height": null,
       "min_width": null,
       "object_fit": null,
       "object_position": null,
       "order": null,
       "overflow": null,
       "padding": null,
       "right": null,
       "top": null,
       "visibility": null,
       "width": null
      }
     },
     "d9f996b0cdd24b5b92ed34018df52f1a": {
      "model_module": "@jupyter-widgets/base",
      "model_module_version": "2.0.0",
      "model_name": "LayoutModel",
      "state": {
       "_model_module": "@jupyter-widgets/base",
       "_model_module_version": "2.0.0",
       "_model_name": "LayoutModel",
       "_view_count": null,
       "_view_module": "@jupyter-widgets/base",
       "_view_module_version": "2.0.0",
       "_view_name": "LayoutView",
       "align_content": null,
       "align_items": null,
       "align_self": null,
       "border_bottom": null,
       "border_left": null,
       "border_right": null,
       "border_top": null,
       "bottom": null,
       "display": null,
       "flex": null,
       "flex_flow": null,
       "grid_area": null,
       "grid_auto_columns": null,
       "grid_auto_flow": null,
       "grid_auto_rows": null,
       "grid_column": null,
       "grid_gap": null,
       "grid_row": null,
       "grid_template_areas": null,
       "grid_template_columns": null,
       "grid_template_rows": null,
       "height": null,
       "justify_content": null,
       "justify_items": null,
       "left": null,
       "margin": null,
       "max_height": null,
       "max_width": null,
       "min_height": null,
       "min_width": null,
       "object_fit": null,
       "object_position": null,
       "order": null,
       "overflow": null,
       "padding": null,
       "right": null,
       "top": null,
       "visibility": null,
       "width": null
      }
     },
     "ded68f7c6b064c049dc29bc7dc15ddd4": {
      "model_module": "@jupyter-widgets/controls",
      "model_module_version": "2.0.0",
      "model_name": "HTMLStyleModel",
      "state": {
       "_model_module": "@jupyter-widgets/controls",
       "_model_module_version": "2.0.0",
       "_model_name": "HTMLStyleModel",
       "_view_count": null,
       "_view_module": "@jupyter-widgets/base",
       "_view_module_version": "2.0.0",
       "_view_name": "StyleView",
       "background": null,
       "description_width": "",
       "font_size": null,
       "text_color": null
      }
     },
     "e01ec4e2ce8841f2a14594b4633012ed": {
      "model_module": "@jupyter-widgets/base",
      "model_module_version": "2.0.0",
      "model_name": "LayoutModel",
      "state": {
       "_model_module": "@jupyter-widgets/base",
       "_model_module_version": "2.0.0",
       "_model_name": "LayoutModel",
       "_view_count": null,
       "_view_module": "@jupyter-widgets/base",
       "_view_module_version": "2.0.0",
       "_view_name": "LayoutView",
       "align_content": null,
       "align_items": null,
       "align_self": null,
       "border_bottom": null,
       "border_left": null,
       "border_right": null,
       "border_top": null,
       "bottom": null,
       "display": null,
       "flex": null,
       "flex_flow": null,
       "grid_area": null,
       "grid_auto_columns": null,
       "grid_auto_flow": null,
       "grid_auto_rows": null,
       "grid_column": null,
       "grid_gap": null,
       "grid_row": null,
       "grid_template_areas": null,
       "grid_template_columns": null,
       "grid_template_rows": null,
       "height": null,
       "justify_content": null,
       "justify_items": null,
       "left": null,
       "margin": null,
       "max_height": null,
       "max_width": null,
       "min_height": null,
       "min_width": null,
       "object_fit": null,
       "object_position": null,
       "order": null,
       "overflow": null,
       "padding": null,
       "right": null,
       "top": null,
       "visibility": null,
       "width": null
      }
     },
     "e59364815d1e4717a33a1d93d7c8a4ea": {
      "model_module": "@jupyter-widgets/controls",
      "model_module_version": "2.0.0",
      "model_name": "FloatProgressModel",
      "state": {
       "_dom_classes": [],
       "_model_module": "@jupyter-widgets/controls",
       "_model_module_version": "2.0.0",
       "_model_name": "FloatProgressModel",
       "_view_count": null,
       "_view_module": "@jupyter-widgets/controls",
       "_view_module_version": "2.0.0",
       "_view_name": "ProgressView",
       "bar_style": "success",
       "description": "",
       "description_allow_html": false,
       "layout": "IPY_MODEL_adff5c37cdfa4654b0f7e62b1203a1cc",
       "max": 23410,
       "min": 0,
       "orientation": "horizontal",
       "style": "IPY_MODEL_072fb379a1184dae815ac0754f57721b",
       "tabbable": null,
       "tooltip": null,
       "value": 23410
      }
     },
     "ed3965e0295a4d969e327a4fed21441e": {
      "model_module": "@jupyter-widgets/controls",
      "model_module_version": "2.0.0",
      "model_name": "FloatProgressModel",
      "state": {
       "_dom_classes": [],
       "_model_module": "@jupyter-widgets/controls",
       "_model_module_version": "2.0.0",
       "_model_name": "FloatProgressModel",
       "_view_count": null,
       "_view_module": "@jupyter-widgets/controls",
       "_view_module_version": "2.0.0",
       "_view_name": "ProgressView",
       "bar_style": "success",
       "description": "",
       "description_allow_html": false,
       "layout": "IPY_MODEL_aa7ac9d407cf4176b4fb3f179b582679",
       "max": 2,
       "min": 0,
       "orientation": "horizontal",
       "style": "IPY_MODEL_0105edd5757f4613b18c72179e7e6401",
       "tabbable": null,
       "tooltip": null,
       "value": 2
      }
     },
     "f00f83d94f3c4f7293880f8288c54d9b": {
      "model_module": "@jupyter-widgets/controls",
      "model_module_version": "2.0.0",
      "model_name": "HTMLModel",
      "state": {
       "_dom_classes": [],
       "_model_module": "@jupyter-widgets/controls",
       "_model_module_version": "2.0.0",
       "_model_name": "HTMLModel",
       "_view_count": null,
       "_view_module": "@jupyter-widgets/controls",
       "_view_module_version": "2.0.0",
       "_view_name": "HTMLView",
       "description": "",
       "description_allow_html": false,
       "layout": "IPY_MODEL_fb7dfbf50e4c4f7198b7daa327e9cb7e",
       "placeholder": "​",
       "style": "IPY_MODEL_29ab2afa13f2473a8366af0020a98686",
       "tabbable": null,
       "tooltip": null,
       "value": " 330M/330M [00:01&lt;00:00, 220MB/s]"
      }
     },
     "f10e0fffe2074842a2d3aef919cd3510": {
      "model_module": "@jupyter-widgets/controls",
      "model_module_version": "2.0.0",
      "model_name": "HBoxModel",
      "state": {
       "_dom_classes": [],
       "_model_module": "@jupyter-widgets/controls",
       "_model_module_version": "2.0.0",
       "_model_name": "HBoxModel",
       "_view_count": null,
       "_view_module": "@jupyter-widgets/controls",
       "_view_module_version": "2.0.0",
       "_view_name": "HBoxView",
       "box_style": "",
       "children": [
        "IPY_MODEL_62eb7814644d4aca9f3fded965bd0a22",
        "IPY_MODEL_afae91d7daf843af837a7687991d0bd7",
        "IPY_MODEL_46f772969ace4990b0d4d5f1c4ee1cf8"
       ],
       "layout": "IPY_MODEL_0ebef2dc96824a5e97097c83b5d57e2f",
       "tabbable": null,
       "tooltip": null
      }
     },
     "f1203529054641f2adafa0fa1abddf12": {
      "model_module": "@jupyter-widgets/base",
      "model_module_version": "2.0.0",
      "model_name": "LayoutModel",
      "state": {
       "_model_module": "@jupyter-widgets/base",
       "_model_module_version": "2.0.0",
       "_model_name": "LayoutModel",
       "_view_count": null,
       "_view_module": "@jupyter-widgets/base",
       "_view_module_version": "2.0.0",
       "_view_name": "LayoutView",
       "align_content": null,
       "align_items": null,
       "align_self": null,
       "border_bottom": null,
       "border_left": null,
       "border_right": null,
       "border_top": null,
       "bottom": null,
       "display": null,
       "flex": null,
       "flex_flow": null,
       "grid_area": null,
       "grid_auto_columns": null,
       "grid_auto_flow": null,
       "grid_auto_rows": null,
       "grid_column": null,
       "grid_gap": null,
       "grid_row": null,
       "grid_template_areas": null,
       "grid_template_columns": null,
       "grid_template_rows": null,
       "height": null,
       "justify_content": null,
       "justify_items": null,
       "left": null,
       "margin": null,
       "max_height": null,
       "max_width": null,
       "min_height": null,
       "min_width": null,
       "object_fit": null,
       "object_position": null,
       "order": null,
       "overflow": null,
       "padding": null,
       "right": null,
       "top": null,
       "visibility": null,
       "width": null
      }
     },
     "f74150a3b1b34571b269daa12f5aedae": {
      "model_module": "@jupyter-widgets/base",
      "model_module_version": "2.0.0",
      "model_name": "LayoutModel",
      "state": {
       "_model_module": "@jupyter-widgets/base",
       "_model_module_version": "2.0.0",
       "_model_name": "LayoutModel",
       "_view_count": null,
       "_view_module": "@jupyter-widgets/base",
       "_view_module_version": "2.0.0",
       "_view_name": "LayoutView",
       "align_content": null,
       "align_items": null,
       "align_self": null,
       "border_bottom": null,
       "border_left": null,
       "border_right": null,
       "border_top": null,
       "bottom": null,
       "display": null,
       "flex": null,
       "flex_flow": null,
       "grid_area": null,
       "grid_auto_columns": null,
       "grid_auto_flow": null,
       "grid_auto_rows": null,
       "grid_column": null,
       "grid_gap": null,
       "grid_row": null,
       "grid_template_areas": null,
       "grid_template_columns": null,
       "grid_template_rows": null,
       "height": null,
       "justify_content": null,
       "justify_items": null,
       "left": null,
       "margin": null,
       "max_height": null,
       "max_width": null,
       "min_height": null,
       "min_width": null,
       "object_fit": null,
       "object_position": null,
       "order": null,
       "overflow": null,
       "padding": null,
       "right": null,
       "top": null,
       "visibility": null,
       "width": null
      }
     },
     "f8f2147e8301479cbe1fbd8c374e0fca": {
      "model_module": "@jupyter-widgets/base",
      "model_module_version": "2.0.0",
      "model_name": "LayoutModel",
      "state": {
       "_model_module": "@jupyter-widgets/base",
       "_model_module_version": "2.0.0",
       "_model_name": "LayoutModel",
       "_view_count": null,
       "_view_module": "@jupyter-widgets/base",
       "_view_module_version": "2.0.0",
       "_view_name": "LayoutView",
       "align_content": null,
       "align_items": null,
       "align_self": null,
       "border_bottom": null,
       "border_left": null,
       "border_right": null,
       "border_top": null,
       "bottom": null,
       "display": null,
       "flex": null,
       "flex_flow": null,
       "grid_area": null,
       "grid_auto_columns": null,
       "grid_auto_flow": null,
       "grid_auto_rows": null,
       "grid_column": null,
       "grid_gap": null,
       "grid_row": null,
       "grid_template_areas": null,
       "grid_template_columns": null,
       "grid_template_rows": null,
       "height": null,
       "justify_content": null,
       "justify_items": null,
       "left": null,
       "margin": null,
       "max_height": null,
       "max_width": null,
       "min_height": null,
       "min_width": null,
       "object_fit": null,
       "object_position": null,
       "order": null,
       "overflow": null,
       "padding": null,
       "right": null,
       "top": null,
       "visibility": null,
       "width": null
      }
     },
     "fb57c0f42fef4f6095e09a42c575f973": {
      "model_module": "@jupyter-widgets/controls",
      "model_module_version": "2.0.0",
      "model_name": "HTMLModel",
      "state": {
       "_dom_classes": [],
       "_model_module": "@jupyter-widgets/controls",
       "_model_module_version": "2.0.0",
       "_model_name": "HTMLModel",
       "_view_count": null,
       "_view_module": "@jupyter-widgets/controls",
       "_view_module_version": "2.0.0",
       "_view_name": "HTMLView",
       "description": "",
       "description_allow_html": false,
       "layout": "IPY_MODEL_f74150a3b1b34571b269daa12f5aedae",
       "placeholder": "​",
       "style": "IPY_MODEL_53affeedf70a4bc29f74bcd6eb33d5ea",
       "tabbable": null,
       "tooltip": null,
       "value": " 8.16k/8.16k [00:00&lt;00:00, 954kB/s]"
      }
     },
     "fb7dfbf50e4c4f7198b7daa327e9cb7e": {
      "model_module": "@jupyter-widgets/base",
      "model_module_version": "2.0.0",
      "model_name": "LayoutModel",
      "state": {
       "_model_module": "@jupyter-widgets/base",
       "_model_module_version": "2.0.0",
       "_model_name": "LayoutModel",
       "_view_count": null,
       "_view_module": "@jupyter-widgets/base",
       "_view_module_version": "2.0.0",
       "_view_name": "LayoutView",
       "align_content": null,
       "align_items": null,
       "align_self": null,
       "border_bottom": null,
       "border_left": null,
       "border_right": null,
       "border_top": null,
       "bottom": null,
       "display": null,
       "flex": null,
       "flex_flow": null,
       "grid_area": null,
       "grid_auto_columns": null,
       "grid_auto_flow": null,
       "grid_auto_rows": null,
       "grid_column": null,
       "grid_gap": null,
       "grid_row": null,
       "grid_template_areas": null,
       "grid_template_columns": null,
       "grid_template_rows": null,
       "height": null,
       "justify_content": null,
       "justify_items": null,
       "left": null,
       "margin": null,
       "max_height": null,
       "max_width": null,
       "min_height": null,
       "min_width": null,
       "object_fit": null,
       "object_position": null,
       "order": null,
       "overflow": null,
       "padding": null,
       "right": null,
       "top": null,
       "visibility": null,
       "width": null
      }
     },
     "fbf72abe4f664eccab9aa698aaa0dcad": {
      "model_module": "@jupyter-widgets/base",
      "model_module_version": "2.0.0",
      "model_name": "LayoutModel",
      "state": {
       "_model_module": "@jupyter-widgets/base",
       "_model_module_version": "2.0.0",
       "_model_name": "LayoutModel",
       "_view_count": null,
       "_view_module": "@jupyter-widgets/base",
       "_view_module_version": "2.0.0",
       "_view_name": "LayoutView",
       "align_content": null,
       "align_items": null,
       "align_self": null,
       "border_bottom": null,
       "border_left": null,
       "border_right": null,
       "border_top": null,
       "bottom": null,
       "display": null,
       "flex": null,
       "flex_flow": null,
       "grid_area": null,
       "grid_auto_columns": null,
       "grid_auto_flow": null,
       "grid_auto_rows": null,
       "grid_column": null,
       "grid_gap": null,
       "grid_row": null,
       "grid_template_areas": null,
       "grid_template_columns": null,
       "grid_template_rows": null,
       "height": null,
       "justify_content": null,
       "justify_items": null,
       "left": null,
       "margin": null,
       "max_height": null,
       "max_width": null,
       "min_height": null,
       "min_width": null,
       "object_fit": null,
       "object_position": null,
       "order": null,
       "overflow": null,
       "padding": null,
       "right": null,
       "top": null,
       "visibility": null,
       "width": null
      }
     },
     "fd0827b3664c4d19a28038f256b47e3b": {
      "model_module": "@jupyter-widgets/controls",
      "model_module_version": "2.0.0",
      "model_name": "HBoxModel",
      "state": {
       "_dom_classes": [],
       "_model_module": "@jupyter-widgets/controls",
       "_model_module_version": "2.0.0",
       "_model_name": "HBoxModel",
       "_view_count": null,
       "_view_module": "@jupyter-widgets/controls",
       "_view_module_version": "2.0.0",
       "_view_name": "HBoxView",
       "box_style": "",
       "children": [
        "IPY_MODEL_b69751fff4664f70a65a61fd05d1381a",
        "IPY_MODEL_55cb2fac2d7b46e4991e72d435d4ed28",
        "IPY_MODEL_fb57c0f42fef4f6095e09a42c575f973"
       ],
       "layout": "IPY_MODEL_9414cf5411314bc4bcec8a11ba32de2d",
       "tabbable": null,
       "tooltip": null
      }
     },
     "fe5e7fe8c3af4b85a6ae38de65996dea": {
      "model_module": "@jupyter-widgets/base",
      "model_module_version": "2.0.0",
      "model_name": "LayoutModel",
      "state": {
       "_model_module": "@jupyter-widgets/base",
       "_model_module_version": "2.0.0",
       "_model_name": "LayoutModel",
       "_view_count": null,
       "_view_module": "@jupyter-widgets/base",
       "_view_module_version": "2.0.0",
       "_view_name": "LayoutView",
       "align_content": null,
       "align_items": null,
       "align_self": null,
       "border_bottom": null,
       "border_left": null,
       "border_right": null,
       "border_top": null,
       "bottom": null,
       "display": null,
       "flex": null,
       "flex_flow": null,
       "grid_area": null,
       "grid_auto_columns": null,
       "grid_auto_flow": null,
       "grid_auto_rows": null,
       "grid_column": null,
       "grid_gap": null,
       "grid_row": null,
       "grid_template_areas": null,
       "grid_template_columns": null,
       "grid_template_rows": null,
       "height": null,
       "justify_content": null,
       "justify_items": null,
       "left": null,
       "margin": null,
       "max_height": null,
       "max_width": null,
       "min_height": null,
       "min_width": null,
       "object_fit": null,
       "object_position": null,
       "order": null,
       "overflow": null,
       "padding": null,
       "right": null,
       "top": null,
       "visibility": null,
       "width": null
      }
     }
    },
    "version_major": 2,
    "version_minor": 0
   }
  }
 },
 "nbformat": 4,
 "nbformat_minor": 5
}
